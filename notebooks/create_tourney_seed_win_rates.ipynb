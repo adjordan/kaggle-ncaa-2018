{
 "cells": [
  {
   "cell_type": "code",
   "execution_count": 86,
   "metadata": {},
   "outputs": [],
   "source": [
    "import pandas as pd\n",
    "import numpy as np\n",
    "\n",
    "seeds = pd.read_csv(\"/home/austin/Github/DataFiles/NCAATourneySeeds.csv\")\n",
    "tourney_compact = pd.read_csv(\"/home/austin/Github/DataFiles/NCAATourneyCompactResults.csv\")"
   ]
  },
  {
   "cell_type": "code",
   "execution_count": 87,
   "metadata": {},
   "outputs": [],
   "source": [
    "# Add seeds to compact results\n",
    "tourney_compact[[\"WTeamSeed\", \"LTeamSeed\"]] = pd.DataFrame(index=range(tourney_compact.shape[0]), columns=[\"WTeamSeed\", \"LTeamSeed\"])\n",
    "\n",
    "for i in range(tourney_compact.shape[0]):\n",
    "    season = tourney_compact.at[i, \"Season\"]\n",
    "    wTeamID = tourney_compact.at[i, \"WTeamID\"]\n",
    "    lTeamID = tourney_compact.at[i, \"LTeamID\"]\n",
    "    \n",
    "    tourney_compact.at[i, \"WTeamSeed\"] = int(seeds.loc[(seeds[\"Season\"] == season) & (seeds[\"TeamID\"] == wTeamID), \"Seed\"].as_matrix()[0][1:3])\n",
    "    tourney_compact.at[i, \"LTeamSeed\"] = int(seeds.loc[(seeds[\"Season\"] == season) & (seeds[\"TeamID\"] == lTeamID), \"Seed\"].as_matrix()[0][1:3])"
   ]
  },
  {
   "cell_type": "code",
   "execution_count": 88,
   "metadata": {},
   "outputs": [],
   "source": [
    "matchups = pd.DataFrame(index=range(16*16), columns=[\"WinSeed\", \"LoseSeed\", \"1985\", \"2003\", \"2011\"])"
   ]
  },
  {
   "cell_type": "code",
   "execution_count": 89,
   "metadata": {},
   "outputs": [],
   "source": [
    "\n",
    "# Since 1985\n",
    "seasons1985 = range(1985, 2018)\n",
    "seasons2003 = range(2003, 2018)\n",
    "seasons2011 = range(2011, 2018)\n",
    "\n",
    "index = 0\n",
    "for i in range(1,17):\n",
    "    for j in range(1,17):\n",
    "        matchups.at[index, \"WinSeed\"] = i\n",
    "        matchups.at[index, \"LoseSeed\"] = j\n",
    "        \n",
    "        if i == j:\n",
    "            matchups.at[index, \"1985\"] = 0.5\n",
    "            matchups.at[index, \"2003\"] = 0.5\n",
    "            matchups.at[index, \"2011\"] = 0.5\n",
    "        else:\n",
    "            win1985 = tourney_compact.loc[(tourney_compact[\"WTeamSeed\"] == i) &\n",
    "                                      (tourney_compact[\"LTeamSeed\"] == j) &\n",
    "                                      (tourney_compact[\"Season\"].isin(seasons1985))].shape[0]\n",
    "            lose1985 = tourney_compact.loc[(tourney_compact[\"WTeamSeed\"] == j) &\n",
    "                                      (tourney_compact[\"LTeamSeed\"] == i) &\n",
    "                                      (tourney_compact[\"Season\"].isin(seasons1985))].shape[0]\n",
    "            if (win1985 == 0) & (lose1985 == 0):\n",
    "                matchups.loc[index, \"1985\"] = -1\n",
    "            else:\n",
    "                matchups.loc[index, \"1985\"] = win1985 / (win1985 + lose1985)\n",
    "                \n",
    "            win2003 = tourney_compact.loc[(tourney_compact[\"WTeamSeed\"] == i) &\n",
    "                                      (tourney_compact[\"LTeamSeed\"] == j) &\n",
    "                                      (tourney_compact[\"Season\"].isin(seasons2003))].shape[0]\n",
    "            lose2003 = tourney_compact.loc[(tourney_compact[\"WTeamSeed\"] == j) &\n",
    "                                      (tourney_compact[\"LTeamSeed\"] == i) &\n",
    "                                      (tourney_compact[\"Season\"].isin(seasons2003))].shape[0]\n",
    "            if (win2003 == 0) & (lose2003 == 0):\n",
    "                matchups.loc[index, \"2003\"] = -1\n",
    "            else:\n",
    "                matchups.loc[index, \"2003\"] = win2003 / (win2003 + lose2003)\n",
    "            \n",
    "            win2011 = tourney_compact.loc[(tourney_compact[\"WTeamSeed\"] == i) &\n",
    "                                      (tourney_compact[\"LTeamSeed\"] == j) &\n",
    "                                      (tourney_compact[\"Season\"].isin(seasons2011))].shape[0]\n",
    "            lose2011 = tourney_compact.loc[(tourney_compact[\"WTeamSeed\"] == j) &\n",
    "                                      (tourney_compact[\"LTeamSeed\"] == i) &\n",
    "                                      (tourney_compact[\"Season\"].isin(seasons2011))].shape[0]\n",
    "            if (win2011 == 0) & (lose2011 == 0):\n",
    "                matchups.loc[index, \"2011\"] = -1\n",
    "            else:\n",
    "                matchups.loc[index, \"2011\"] = win2011 / (win2011 + lose2011)\n",
    "        \n",
    "        index = index + 1"
   ]
  },
  {
   "cell_type": "code",
   "execution_count": 90,
   "metadata": {},
   "outputs": [
    {
     "name": "stdout",
     "output_type": "stream",
     "text": [
      "    WinSeed LoseSeed      1985      2003      2011\n",
      "0         1        1       0.5       0.5       0.5\n",
      "1         1        2  0.539683  0.444444  0.454545\n",
      "2         1        3  0.566667     0.625      0.75\n",
      "3         1        4  0.721311  0.740741  0.705882\n",
      "4         1        5  0.837209      0.85       0.8\n",
      "5         1        6  0.727273         1         1\n",
      "6         1        7  0.857143       0.8  0.666667\n",
      "7         1        8  0.797101  0.852941  0.789474\n",
      "8         1        9  0.924242  0.888889       0.9\n",
      "9         1       10  0.833333  0.666667       0.5\n",
      "10        1       11  0.571429       0.5  0.666667\n",
      "11        1       12         1         1         1\n",
      "12        1       13         1         1         1\n",
      "13        1       14        -1        -1        -1\n",
      "14        1       15        -1        -1        -1\n",
      "15        1       16         1         1         1\n",
      "16        2        1  0.460317  0.555556  0.545455\n",
      "17        2        2       0.5       0.5       0.5\n",
      "18        2        3      0.64       0.6  0.714286\n",
      "19        2        4  0.428571  0.333333         0\n",
      "20        2        5         0         0        -1\n",
      "21        2        6  0.774194       0.9         1\n",
      "22        2        7  0.705128  0.638889  0.647059\n",
      "23        2        8  0.285714      0.25         0\n",
      "24        2        9         0         0         0\n",
      "25        2       10  0.608696      0.65  0.714286\n",
      "26        2       11  0.866667  0.833333       0.8\n",
      "27        2       12         1        -1        -1\n",
      "28        2       13        -1        -1        -1\n",
      "29        2       14        -1        -1        -1\n",
      "..      ...      ...       ...       ...       ...\n",
      "226      15        3         0         0         0\n",
      "227      15        4        -1        -1        -1\n",
      "228      15        5        -1        -1        -1\n",
      "229      15        6        -1        -1        -1\n",
      "230      15        7  0.333333       0.5       0.5\n",
      "231      15        8        -1        -1        -1\n",
      "232      15        9        -1        -1        -1\n",
      "233      15       10         0         0         0\n",
      "234      15       11        -1        -1        -1\n",
      "235      15       12        -1        -1        -1\n",
      "236      15       13        -1        -1        -1\n",
      "237      15       14        -1        -1        -1\n",
      "238      15       15       0.5       0.5       0.5\n",
      "239      15       16        -1        -1        -1\n",
      "240      16        1         0         0         0\n",
      "241      16        2        -1        -1        -1\n",
      "242      16        3        -1        -1        -1\n",
      "243      16        4        -1        -1        -1\n",
      "244      16        5        -1        -1        -1\n",
      "245      16        6        -1        -1        -1\n",
      "246      16        7        -1        -1        -1\n",
      "247      16        8        -1        -1        -1\n",
      "248      16        9        -1        -1        -1\n",
      "249      16       10        -1        -1        -1\n",
      "250      16       11        -1        -1        -1\n",
      "251      16       12        -1        -1        -1\n",
      "252      16       13        -1        -1        -1\n",
      "253      16       14        -1        -1        -1\n",
      "254      16       15        -1        -1        -1\n",
      "255      16       16       0.5       0.5       0.5\n",
      "\n",
      "[256 rows x 5 columns]\n"
     ]
    }
   ],
   "source": [
    "print(matchups)"
   ]
  },
  {
   "cell_type": "code",
   "execution_count": 93,
   "metadata": {},
   "outputs": [
    {
     "name": "stdout",
     "output_type": "stream",
     "text": [
      "34\n",
      "29\n"
     ]
    }
   ],
   "source": [
    "i = 1\n",
    "j = 2\n",
    "\n",
    "win = tourney_compact.loc[(tourney_compact[\"WTeamSeed\"] == i) &\n",
    "                                      (tourney_compact[\"LTeamSeed\"] == j) &\n",
    "                                      (tourney_compact[\"Season\"].isin(seasons))].shape[0]\n",
    "\n",
    "lose = tourney_compact.loc[(tourney_compact[\"WTeamSeed\"] == j) &\n",
    "                                      (tourney_compact[\"LTeamSeed\"] == i) &\n",
    "                                      (tourney_compact[\"Season\"].isin(seasons))].shape[0]\n",
    "\n",
    "print(win)\n",
    "print(lose)"
   ]
  },
  {
   "cell_type": "code",
   "execution_count": 94,
   "metadata": {},
   "outputs": [],
   "source": [
    "matchups.to_csv(\"/home/austin/Github/DataFiles/TourneyWinratesBySeed.csv\")"
   ]
  },
  {
   "cell_type": "code",
   "execution_count": null,
   "metadata": {},
   "outputs": [],
   "source": []
  }
 ],
 "metadata": {
  "kernelspec": {
   "display_name": "Python 3",
   "language": "python",
   "name": "python3"
  },
  "language_info": {
   "codemirror_mode": {
    "name": "ipython",
    "version": 3
   },
   "file_extension": ".py",
   "mimetype": "text/x-python",
   "name": "python",
   "nbconvert_exporter": "python",
   "pygments_lexer": "ipython3",
   "version": "3.5.2"
  }
 },
 "nbformat": 4,
 "nbformat_minor": 2
}
