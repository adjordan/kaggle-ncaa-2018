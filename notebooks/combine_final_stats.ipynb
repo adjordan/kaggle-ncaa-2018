{
 "cells": [
  {
   "cell_type": "code",
   "execution_count": 13,
   "metadata": {},
   "outputs": [],
   "source": [
    "import pandas as pd\n",
    "import numpy as np\n",
    "\n",
    "root = \"/home/austin/Github/kaggle-ncaa-2018/\"\n",
    "\n",
    "master = pd.read_csv(root + \"derived_data/MasterWith2018.csv\")\n",
    "elos = pd.read_csv(root + \"derived_data/season_elos_2018.csv\")\n",
    "\n",
    "seasons = range(2003, 2019)"
   ]
  },
  {
   "cell_type": "code",
   "execution_count": 21,
   "metadata": {},
   "outputs": [],
   "source": [
    "# Make & start filling initial dataframe\n",
    "all_data = pd.DataFrame(columns=[\"Season\", \"TeamID\", \"Seed\", \"Elo\", \"RPI\", \"PIE\"])\n",
    "index = 0\n",
    "for i in range(len(seasons)):\n",
    "    season = seasons[i]\n",
    "    team_ids_for_season = pd.unique(master.loc[master[\"Season\"] == season, \"TeamID\"].values.ravel('K'))\n",
    "    \n",
    "    for j in range(len(team_ids_for_season)):\n",
    "        season_data = master.loc[master[\"Season\"] == season]\n",
    "        team_id = team_ids_for_season[j]\n",
    "        all_data.at[index, \"Season\"] = season\n",
    "        all_data.at[index, \"TeamID\"] = team_id\n",
    "        all_data.at[index, \"Seed\"] = season_data.loc[season_data[\"TeamID\"] == team_id, \"Seed\"].values[0]\n",
    "        all_data.at[index, \"RPI\"] = season_data.loc[season_data[\"TeamID\"] == team_id, \"RPI\"].values[0]\n",
    "        all_data.at[index, \"PIE\"] = season_data.loc[season_data[\"TeamID\"] == team_id, \"PIE\"].values[0]\n",
    "        all_data.at[index, \"Elo\"] = elos.loc[(elos[\"team_id\"] == team_id) & (elos[\"season\"] == season), \"season_elo\"].values[0]\n",
    "        index += 1"
   ]
  },
  {
   "cell_type": "code",
   "execution_count": 23,
   "metadata": {},
   "outputs": [],
   "source": [
    "# print(all_data)\n",
    "all_data.to_csv(root + \"derived_data/MasterFinal.csv\")"
   ]
  },
  {
   "cell_type": "code",
   "execution_count": null,
   "metadata": {},
   "outputs": [],
   "source": []
  }
 ],
 "metadata": {
  "kernelspec": {
   "display_name": "Python 3",
   "language": "python",
   "name": "python3"
  },
  "language_info": {
   "codemirror_mode": {
    "name": "ipython",
    "version": 3
   },
   "file_extension": ".py",
   "mimetype": "text/x-python",
   "name": "python",
   "nbconvert_exporter": "python",
   "pygments_lexer": "ipython3",
   "version": "3.5.2"
  }
 },
 "nbformat": 4,
 "nbformat_minor": 2
}
