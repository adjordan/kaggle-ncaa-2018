{
 "cells": [
  {
   "cell_type": "code",
   "execution_count": 1,
   "metadata": {},
   "outputs": [],
   "source": [
    "import pandas as pd\n",
    "import numpy as np\n",
    "\n",
    "root = \"/home/austin/Github/kaggle-ncaa-2018/\"\n",
    "\n",
    "reg_season_detailed = pd.read_csv(root + \"original_data/RegularSeasonDetailedResults.csv\")\n",
    "tourney_detailed = pd.read_csv(root + \"original_data/NCAATourneyDetailedResults.csv\")\n",
    "reg_season_composite = pd.read_csv(root + \"original_data/RegularSeasonCompositeStats.csv\")\n",
    "seeds = pd.read_csv(root + \"original_data/NCAATourneySeeds.csv\")\n",
    "elo = pd.read_csv(root + \"derived_data/season_elos.csv\")\n",
    "\n",
    "seasons = range(2003, 2018)"
   ]
  },
  {
   "cell_type": "code",
   "execution_count": 2,
   "metadata": {},
   "outputs": [],
   "source": [
    "# Make & start filling initial dataframe\n",
    "all_data = pd.DataFrame(columns=[\"Season\", \"TeamID\"])\n",
    "index = 0\n",
    "for i in range(len(seasons)):\n",
    "    season = seasons[i]\n",
    "    team_ids_for_season = pd.unique(tourney_detailed.loc[tourney_detailed[\"Season\"] == season, [\"WTeamID\", \"LTeamID\"]].values.ravel('K'))\n",
    "    for j in range(len(team_ids_for_season)):\n",
    "        all_data.loc[index, \"Season\"] = season\n",
    "        all_data.loc[index, \"TeamID\"] = team_ids_for_season[j]\n",
    "        index += 1"
   ]
  },
  {
   "cell_type": "code",
   "execution_count": 3,
   "metadata": {},
   "outputs": [],
   "source": [
    "# Add regular season stats\n",
    "\n",
    "# Relevant stats\n",
    "stats_columns = [\"FGM\", \"FGA\", \"FGM3\", \"FGA3\", \"FTM\", \"FTA\", \"OR\", \"DR\", \"Ast\", \"TO\", \"Stl\", \"Blk\", \"PF\"]\n",
    "w_team_stats = [\"WFGM\", \"WFGA\", \"WFGM3\", \"WFGA3\", \"WFTM\", \"WFTA\", \"WOR\", \"WDR\", \"WAst\", \"WTO\", \"WStl\", \"WBlk\", \"WPF\"]\n",
    "l_team_stats = [\"LFGM\", \"LFGA\", \"LFGM3\", \"LFGA3\", \"LFTM\", \"LFTA\", \"LOR\", \"LDR\", \"LAst\", \"LTO\", \"LStl\", \"LBlk\", \"LPF\"]\n",
    "\n",
    "# Add empty columns for new stats being added\n",
    "all_data[stats_columns] = pd.DataFrame(index=range(all_data.shape[0]), columns=stats_columns)\n",
    "\n",
    "# Loop through seasons\n",
    "for season in seasons:\n",
    "    games_for_season = reg_season_detailed.loc[reg_season_detailed[\"Season\"] == season]\n",
    "    team_ids_for_season = all_data.loc[all_data[\"Season\"] == season, \"TeamID\"].values.ravel()\n",
    "\n",
    "    # Loop through team IDs in the season\n",
    "    for team_id in team_ids_for_season:\n",
    "        games = games_for_season.loc[(games_for_season[\"WTeamID\"] == team_id) | (games_for_season[\"LTeamID\"] == team_id)].reset_index()\n",
    "        stats = pd.DataFrame(index=range(games.shape[0]), columns=stats_columns)\n",
    "        for i, row in games.iterrows():\n",
    "            if row[\"WTeamID\"] == team_id:\n",
    "                stats.loc[i, stats_columns] = row[w_team_stats].as_matrix()\n",
    "            else:\n",
    "                stats.loc[i, stats_columns] = row[l_team_stats].as_matrix()\n",
    "        \n",
    "        all_data.loc[(all_data[\"Season\"] == season) & (all_data[\"TeamID\"] == team_id), stats_columns] = stats.mean(axis=0).ravel()"
   ]
  },
  {
   "cell_type": "code",
   "execution_count": 4,
   "metadata": {},
   "outputs": [],
   "source": [
    "# Add composite stats, seeds, and elo\n",
    "\n",
    "comp_columns = [\"PIE\", \"FG_PCT\", \"TURNOVER_RATE\", \"OFF_REB_PCT\", \"FT_RATE\", \"4FACTOR\", \"OFF_EFF\", \"DEF_EFF\",\n",
    "                \"ASSIST_RATIO\", \"DEF_REB_PCT\", \"FT_PCT\", \"WINPCT\"]\n",
    "\n",
    "# Add empty columns for new stats being added\n",
    "all_data[comp_columns + [\"Seed\", \"Elo\"]] = pd.DataFrame(index=range(all_data.shape[0]), columns=comp_columns + [\"Seed\", \"Elo\"])\n",
    "\n",
    "# Loop through all season/team pairs\n",
    "for i, row in all_data.iterrows():\n",
    "    # Get season and team ID for the row\n",
    "    season = row[\"Season\"]\n",
    "    team_id = row[\"TeamID\"]\n",
    "    \n",
    "    # Get composite stats\n",
    "    season_team_data = reg_season_composite.loc[(reg_season_composite[\"Season\"] == season) & (reg_season_composite[\"TeamID\"] == team_id)]\n",
    "    \n",
    "    # Add composite stats\n",
    "    all_data.loc[i, comp_columns] = season_team_data[comp_columns].as_matrix().ravel()\n",
    "    \n",
    "    # Add seed\n",
    "    seed = seeds.loc[(seeds[\"Season\"] == season) & (seeds[\"TeamID\"] == team_id)][\"Seed\"].reset_index(drop=True)[0]\n",
    "    all_data.loc[i, \"Seed\"] = int(seed[1:3])\n",
    "    \n",
    "    # Add elo\n",
    "    all_data.loc[i, \"Elo\"] = elo.loc[(elo[\"season\"] == season) & (elo[\"team_id\"] == team_id)][\"season_elo\"].reset_index(drop=True)[0]"
   ]
  },
  {
   "cell_type": "code",
   "execution_count": 5,
   "metadata": {},
   "outputs": [],
   "source": [
    "all_data.to_csv(root + \"derived_data/Master.csv\")"
   ]
  },
  {
   "cell_type": "code",
   "execution_count": null,
   "metadata": {},
   "outputs": [],
   "source": []
  }
 ],
 "metadata": {
  "kernelspec": {
   "display_name": "Python 3",
   "language": "python",
   "name": "python3"
  },
  "language_info": {
   "codemirror_mode": {
    "name": "ipython",
    "version": 3
   },
   "file_extension": ".py",
   "mimetype": "text/x-python",
   "name": "python",
   "nbconvert_exporter": "python",
   "pygments_lexer": "ipython3",
   "version": "3.5.2"
  }
 },
 "nbformat": 4,
 "nbformat_minor": 2
}
