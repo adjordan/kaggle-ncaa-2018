{
 "cells": [
  {
   "cell_type": "code",
   "execution_count": 2,
   "metadata": {},
   "outputs": [],
   "source": [
    "import pandas as pd\n",
    "import numpy as np\n",
    "\n",
    "root = \"/home/austin/Github/kaggle-ncaa-2018/\"\n",
    "\n",
    "# reg_season_detailed = pd.read_csv(root + \"original_data/RegularSeasonDetailedResults.csv\")\n",
    "# tourney_detailed = pd.read_csv(root + \"original_data/NCAATourneyDetailedResults.csv\")\n",
    "# reg_season_composite = pd.read_csv(root + \"original_data/RegularSeasonCompositeStats.csv\")\n",
    "# seeds = pd.read_csv(root + \"original_data/NCAATourneySeeds.csv\")\n",
    "# elo = pd.read_csv(root + \"derived_data/season_elos.csv\")\n",
    "\n",
    "seasons = range(2003, 2018)"
   ]
  },
  {
   "cell_type": "code",
   "execution_count": 2,
   "metadata": {},
   "outputs": [],
   "source": [
    "# Make & start filling initial dataframe\n",
    "all_data = pd.DataFrame(columns=[\"Season\", \"TeamID\"])\n",
    "index = 0\n",
    "for i in range(len(seasons)):\n",
    "    season = seasons[i]\n",
    "    team_ids_for_season = pd.unique(tourney_detailed.loc[tourney_detailed[\"Season\"] == season, [\"WTeamID\", \"LTeamID\"]].values.ravel('K'))\n",
    "    for j in range(len(team_ids_for_season)):\n",
    "        all_data.loc[index, \"Season\"] = season\n",
    "        all_data.loc[index, \"TeamID\"] = team_ids_for_season[j]\n",
    "        index += 1"
   ]
  },
  {
   "cell_type": "code",
   "execution_count": 3,
   "metadata": {},
   "outputs": [],
   "source": [
    "# Add regular season stats\n",
    "\n",
    "# Relevant stats\n",
    "stats_columns = [\"FGM\", \"FGA\", \"FGM3\", \"FGA3\", \"FTM\", \"FTA\", \"OR\", \"DR\", \"Ast\", \"TO\", \"Stl\", \"Blk\", \"PF\"]\n",
    "w_team_stats = [\"WFGM\", \"WFGA\", \"WFGM3\", \"WFGA3\", \"WFTM\", \"WFTA\", \"WOR\", \"WDR\", \"WAst\", \"WTO\", \"WStl\", \"WBlk\", \"WPF\"]\n",
    "l_team_stats = [\"LFGM\", \"LFGA\", \"LFGM3\", \"LFGA3\", \"LFTM\", \"LFTA\", \"LOR\", \"LDR\", \"LAst\", \"LTO\", \"LStl\", \"LBlk\", \"LPF\"]\n",
    "\n",
    "# Add empty columns for new stats being added\n",
    "all_data[stats_columns] = pd.DataFrame(index=range(all_data.shape[0]), columns=stats_columns)\n",
    "\n",
    "# Loop through seasons\n",
    "for season in seasons:\n",
    "    games_for_season = reg_season_detailed.loc[reg_season_detailed[\"Season\"] == season]\n",
    "    team_ids_for_season = all_data.loc[all_data[\"Season\"] == season, \"TeamID\"].values.ravel()\n",
    "\n",
    "    # Loop through team IDs in the season\n",
    "    for team_id in team_ids_for_season:\n",
    "        games = games_for_season.loc[(games_for_season[\"WTeamID\"] == team_id) | (games_for_season[\"LTeamID\"] == team_id)].reset_index()\n",
    "        stats = pd.DataFrame(index=range(games.shape[0]), columns=stats_columns)\n",
    "        for i, row in games.iterrows():\n",
    "            if row[\"WTeamID\"] == team_id:\n",
    "                stats.loc[i, stats_columns] = row[w_team_stats].as_matrix()\n",
    "            else:\n",
    "                stats.loc[i, stats_columns] = row[l_team_stats].as_matrix()\n",
    "        \n",
    "        all_data.loc[(all_data[\"Season\"] == season) & (all_data[\"TeamID\"] == team_id), stats_columns] = stats.mean(axis=0).ravel()"
   ]
  },
  {
   "cell_type": "code",
   "execution_count": 4,
   "metadata": {},
   "outputs": [],
   "source": [
    "# Add composite stats, seeds, and elo\n",
    "\n",
    "comp_columns = [\"PIE\", \"FG_PCT\", \"TURNOVER_RATE\", \"OFF_REB_PCT\", \"FT_RATE\", \"4FACTOR\", \"OFF_EFF\", \"DEF_EFF\",\n",
    "                \"ASSIST_RATIO\", \"DEF_REB_PCT\", \"FT_PCT\", \"WINPCT\"]\n",
    "\n",
    "# Add empty columns for new stats being added\n",
    "all_data[comp_columns + [\"Seed\", \"Elo\"]] = pd.DataFrame(index=range(all_data.shape[0]), columns=comp_columns + [\"Seed\", \"Elo\"])\n",
    "\n",
    "# Loop through all season/team pairs\n",
    "for i, row in all_data.iterrows():\n",
    "    # Get season and team ID for the row\n",
    "    season = row[\"Season\"]\n",
    "    team_id = row[\"TeamID\"]\n",
    "    \n",
    "    # Get composite stats\n",
    "    season_team_data = reg_season_composite.loc[(reg_season_composite[\"Season\"] == season) & (reg_season_composite[\"TeamID\"] == team_id)]\n",
    "    \n",
    "    # Add composite stats\n",
    "    all_data.loc[i, comp_columns] = season_team_data[comp_columns].as_matrix().ravel()\n",
    "    \n",
    "    # Add seed\n",
    "    seed = seeds.loc[(seeds[\"Season\"] == season) & (seeds[\"TeamID\"] == team_id)][\"Seed\"].reset_index(drop=True)[0]\n",
    "    all_data.loc[i, \"Seed\"] = int(seed[1:3])\n",
    "    \n",
    "    # Add elo\n",
    "    all_data.loc[i, \"Elo\"] = elo.loc[(elo[\"season\"] == season) & (elo[\"team_id\"] == team_id)][\"season_elo\"].reset_index(drop=True)[0]"
   ]
  },
  {
   "cell_type": "code",
   "execution_count": 5,
   "metadata": {},
   "outputs": [],
   "source": [
    "# all_data.to_csv(root + \"derived_data/Master.csv\")"
   ]
  },
  {
   "cell_type": "code",
   "execution_count": 52,
   "metadata": {},
   "outputs": [],
   "source": [
    "master = pd.read_csv(root + \"derived_data/Master.csv\")\n",
    "teams = pd.read_csv(\"/home/austin/Github/DataFiles/TeamSpellings.csv\", encoding='latin1')"
   ]
  },
  {
   "cell_type": "code",
   "execution_count": 53,
   "metadata": {},
   "outputs": [],
   "source": [
    "# Add sports ref data\n",
    "sportsref_cols = [\"Pace\", \"ORtg\", \"FTr\", \"3PAr\", \"TS%\", \"TRB%\", \"AST%\", \"STL%\", \"BLK%\", \"eFG%\", \"TOV%\", \"ORB%\", \"FT/FGA\"]\n",
    "master[sportsref_cols] = pd.DataFrame(index=range(master.shape[0]), columns=sportsref_cols)"
   ]
  },
  {
   "cell_type": "code",
   "execution_count": 54,
   "metadata": {},
   "outputs": [
    {
     "name": "stdout",
     "output_type": "stream",
     "text": [
      "2010\n",
      "[]\n",
      "2011\n",
      "[]\n",
      "2012\n",
      "[]\n",
      "2013\n",
      "[]\n",
      "2014\n",
      "[]\n",
      "2015\n",
      "[]\n",
      "2016\n",
      "[]\n",
      "2017\n",
      "[]\n"
     ]
    }
   ],
   "source": [
    "for season in range(2010,2018):\n",
    "    print(season)\n",
    "    season_data = pd.read_csv(\"/home/austin/Github/sportsref/\" + str(season) + \".csv\")\n",
    "    \n",
    "    # Get all teams and make them lower case\n",
    "    season_data_teams = season_data.loc[:, \"School\"].ravel()\n",
    "    for i in range(len(season_data_teams)):\n",
    "        season_data_teams[i] = season_data_teams[i].lower()\n",
    "    season_data.loc[:, \"School\"] = season_data_teams\n",
    "#     print(season_data_teams)\n",
    "    \n",
    "    # Get team IDs for season tourney\n",
    "    team_ids_for_season = pd.unique(master.loc[master[\"Season\"] == season, [\"TeamID\"]].values.ravel('K'))\n",
    "    missed = team_ids_for_season\n",
    "    for team_id in team_ids_for_season:\n",
    "        team_names = teams.loc[teams[\"TeamID\"] == team_id, \"TeamNameSpelling\"].tolist()\n",
    "        for team_name in team_names:\n",
    "#             print(team_name)\n",
    "            if team_name in season_data_teams:\n",
    "                missed = np.delete(missed, np.argwhere(missed==team_id))\n",
    "                team_data = season_data.loc[season_data[\"School\"] == team_name, sportsref_cols].as_matrix().ravel()\n",
    "                master.loc[(master[\"TeamID\"] == team_id) & (master[\"Season\"] == season), sportsref_cols] = team_data\n",
    "                \n",
    "    print(missed)"
   ]
  },
  {
   "cell_type": "code",
   "execution_count": 55,
   "metadata": {},
   "outputs": [
    {
     "name": "stdout",
     "output_type": "stream",
     "text": [
      "0        NaN\n",
      "1        NaN\n",
      "2        NaN\n",
      "3        NaN\n",
      "4        NaN\n",
      "5        NaN\n",
      "6        NaN\n",
      "7        NaN\n",
      "8        NaN\n",
      "9        NaN\n",
      "10       NaN\n",
      "11       NaN\n",
      "12       NaN\n",
      "13       NaN\n",
      "14       NaN\n",
      "15       NaN\n",
      "16       NaN\n",
      "17       NaN\n",
      "18       NaN\n",
      "19       NaN\n",
      "20       NaN\n",
      "21       NaN\n",
      "22       NaN\n",
      "23       NaN\n",
      "24       NaN\n",
      "25       NaN\n",
      "26       NaN\n",
      "27       NaN\n",
      "28       NaN\n",
      "29       NaN\n",
      "       ...  \n",
      "966    0.381\n",
      "967    0.364\n",
      "968     0.37\n",
      "969    0.432\n",
      "970    0.329\n",
      "971    0.404\n",
      "972    0.413\n",
      "973    0.396\n",
      "974    0.348\n",
      "975    0.242\n",
      "976    0.341\n",
      "977    0.364\n",
      "978    0.317\n",
      "979    0.372\n",
      "980    0.409\n",
      "981    0.398\n",
      "982    0.376\n",
      "983    0.431\n",
      "984    0.393\n",
      "985    0.363\n",
      "986    0.346\n",
      "987    0.383\n",
      "988    0.343\n",
      "989    0.443\n",
      "990     0.31\n",
      "991    0.277\n",
      "992     0.31\n",
      "993    0.328\n",
      "994     0.36\n",
      "995    0.436\n",
      "Name: FTr, Length: 996, dtype: object\n"
     ]
    }
   ],
   "source": [
    "print(master.loc[:,\"FTr\"])"
   ]
  },
  {
   "cell_type": "code",
   "execution_count": 57,
   "metadata": {},
   "outputs": [],
   "source": [
    "master.to_csv(\"/home/austin/Github/kaggle-ncaa-2018/derived_data/Master.csv\")"
   ]
  },
  {
   "cell_type": "code",
   "execution_count": null,
   "metadata": {},
   "outputs": [],
   "source": []
  }
 ],
 "metadata": {
  "kernelspec": {
   "display_name": "Python 3",
   "language": "python",
   "name": "python3"
  },
  "language_info": {
   "codemirror_mode": {
    "name": "ipython",
    "version": 3
   },
   "file_extension": ".py",
   "mimetype": "text/x-python",
   "name": "python",
   "nbconvert_exporter": "python",
   "pygments_lexer": "ipython3",
   "version": "3.5.2"
  }
 },
 "nbformat": 4,
 "nbformat_minor": 2
}
