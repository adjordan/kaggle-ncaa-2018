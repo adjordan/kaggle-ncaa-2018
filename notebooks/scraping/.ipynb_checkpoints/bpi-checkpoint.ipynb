{
 "cells": [
  {
   "cell_type": "code",
   "execution_count": 282,
   "metadata": {},
   "outputs": [],
   "source": [
    "import pandas as pd\n",
    "import numpy as np\n",
    "import requests\n",
    "import re\n",
    "\n",
    "root = \"/home/austin/Github/kaggle-ncaa-2018/\"\n",
    "\n",
    "master = pd.read_csv(root + \"derived_data/Master.csv\")\n",
    "master[\"BPI\"] = pd.DataFrame(index=range(master.shape[0]), columns=[\"BPI\"])\n",
    "teams = pd.read_csv(\"/home/austin/Github/DataFiles/TeamSpellings.csv\", encoding='latin1')\n",
    "\n",
    "seasons = range(2003, 2018)\n",
    "seasons2 = range(2008, 2018)\n",
    "# seasons = [2012]\n",
    "\n",
    "url_format = \"http://www.espn.com/mens-college-basketball/bpi/_/view/bpi/season/{}/page/{}\"\n",
    "search_format = r\"class=\\\"team-names\\\">{}</span><abbr title=\\\"Temple\\\">\\w{{1,10}}</abbr></span></a></td><td class=\\\"align-left\\\">[\\s\\d\\w\\-\\.]{{1,25}}</td><td>\\d{{1,2}}-\\d{{1,2}}</td><td>([-]?\\d{{0,2}}\\.\\d{{1}})</td><td>([-]?\\d{{0,2}}\\.\\d{{1}})</td><td>([-]?\\d{{0,2}}\\.\\d{{1}})</td>\""
   ]
  },
  {
   "cell_type": "code",
   "execution_count": 283,
   "metadata": {
    "scrolled": true
   },
   "outputs": [
    {
     "name": "stdout",
     "output_type": "stream",
     "text": [
      "2008\n",
      "[]\n",
      "2009\n",
      "[]\n",
      "2010\n",
      "[]\n",
      "2011\n",
      "[]\n",
      "2012\n",
      "[1259]\n",
      "2013\n",
      "[]\n",
      "2014\n",
      "[]\n",
      "2015\n",
      "[]\n",
      "2016\n",
      "[]\n",
      "2017\n",
      "[]\n"
     ]
    }
   ],
   "source": [
    "for season in seasons2:\n",
    "    print(season)\n",
    "    team_ids = pd.unique(master.loc[master[\"Season\"] == season, \"TeamID\"].values.ravel('K'))\n",
    "    html_list = []\n",
    "    \n",
    "#     Get HTML first 125 teams for current season season\n",
    "    for i in range(1,15):\n",
    "        response = requests.get(url_format.format(season,i))\n",
    "        html_list.append(response.text)\n",
    "    \n",
    "#     print(html_list[0])\n",
    "    \n",
    "    team_list = team_ids\n",
    "    for team_id in team_ids:\n",
    "        # Get list of possible team spellings\n",
    "        team_names = teams.loc[teams[\"TeamID\"] == team_id, \"TeamNameSpelling\"].tolist()\n",
    "        team_bpi_html = \"\";\n",
    "        for team_name in team_names:\n",
    "            if team_name == \"east tennessee state(ETS\":\n",
    "                continue\n",
    "            for html in html_list:\n",
    "#                 print(team_name)\n",
    "                team_format_to_find = search_format.format(team_name)\n",
    "                p = re.compile(team_format_to_find, re.IGNORECASE)\n",
    "                m = p.search(html)\n",
    "                \n",
    "                if m:\n",
    "#                     print(\"SUCCESS: \", team_name)\n",
    "                    matched = m.group()\n",
    "                    bpi = re.compile(r\"(\\d{1,2}\\.\\d{1})\").findall(matched)[-1]\n",
    "                    bpi = float(bpi)\n",
    "                    master.at[(master[\"Season\"] == season) & (master[\"TeamID\"] == team_id), \"BPI\"] = bpi\n",
    "                    team_list = np.delete(team_list, np.argwhere(team_list==team_id))\n",
    "                    break\n",
    "\n",
    "    print(team_list)"
   ]
  },
  {
   "cell_type": "code",
   "execution_count": 284,
   "metadata": {},
   "outputs": [],
   "source": [
    "# Manually add 2012 BPI for team 1259 (loyola md I think)\n",
    "# master.to_csv(root + \"derived_data/Master2.csv\")"
   ]
  },
  {
   "cell_type": "code",
   "execution_count": 285,
   "metadata": {},
   "outputs": [],
   "source": [
    "master[\"Predictor_Score\"] = pd.DataFrame(index=range(master.shape[0]), columns=[\"Predictor_Score\"])\n",
    "teams = pd.read_csv(\"/home/austin/Github/DataFiles/TeamSpellings.csv\", encoding='latin1')\n",
    "\n",
    "url_format_predictor = \"https://www.usatoday.com/sports/ncaab/sagarin/{}/team/\"\n",
    "search_format_predictor = r\"&nbsp\\s*\\d{{1,3}}\\s*{}[\\s\\$]*\\=.{{1,220}}\\&nbsp\\s*(\\d{{1,3}}\\.\\d{{1,2}})\""
   ]
  },
  {
   "cell_type": "code",
   "execution_count": 286,
   "metadata": {},
   "outputs": [
    {
     "name": "stdout",
     "output_type": "stream",
     "text": [
      "2003\n",
      "[]\n",
      "2004\n",
      "[]\n",
      "2005\n",
      "[]\n",
      "2006\n",
      "[]\n",
      "2007\n",
      "[]\n",
      "2008\n",
      "[]\n",
      "2009\n",
      "[]\n",
      "2010\n",
      "[]\n",
      "2011\n",
      "[]\n",
      "2012\n",
      "[]\n",
      "2013\n",
      "[]\n",
      "2014\n",
      "[]\n",
      "2015\n",
      "[]\n",
      "2016\n",
      "[]\n",
      "2017\n",
      "[]\n"
     ]
    }
   ],
   "source": [
    "for season in seasons:\n",
    "    print(season)\n",
    "    team_ids = pd.unique(master.loc[master[\"Season\"] == season, \"TeamID\"].values.ravel('K'))\n",
    "    \n",
    "    response = requests.get(url_format_predictor.format(season))\n",
    "    html = response.text\n",
    "    \n",
    "    team_list = team_ids\n",
    "    for team_id in team_ids:\n",
    "        # Get list of possible team spellings\n",
    "        team_names = teams.loc[teams[\"TeamID\"] == team_id, \"TeamNameSpelling\"].tolist()\n",
    "        for team_name in team_names:\n",
    "            if \"(\" in team_name:\n",
    "                team_name = team_name.replace(\"(\", \"\\(\")\n",
    "            if \")\" in team_name:\n",
    "                team_name = team_name.replace(\")\", \"\\)\")\n",
    "            \n",
    "            \n",
    "            team_format_to_find = search_format_predictor.format(team_name)\n",
    "\n",
    "            p = re.compile(team_format_to_find, re.IGNORECASE)\n",
    "            m = p.search(html)\n",
    "\n",
    "            if m:\n",
    "                matched = m.group()\n",
    "                predictors = re.compile(r\"(\\d{1,2}\\.\\d{1,2})\").findall(matched)\n",
    "#                 print(predictors)\n",
    "                predictor = predictors[-1]\n",
    "                predictor = float(predictor)\n",
    "                master.at[(master[\"Season\"] == season) & (master[\"TeamID\"] == team_id), \"Predictor_Score\"] = predictor\n",
    "                team_list = np.delete(team_list, np.argwhere(team_list==team_id))\n",
    "                break\n",
    "\n",
    "    print(team_list)"
   ]
  },
  {
   "cell_type": "code",
   "execution_count": 287,
   "metadata": {},
   "outputs": [],
   "source": [
    "master.to_csv(root + \"derived_data/Master2.csv\")"
   ]
  }
 ],
 "metadata": {
  "kernelspec": {
   "display_name": "Python 3",
   "language": "python",
   "name": "python3"
  },
  "language_info": {
   "codemirror_mode": {
    "name": "ipython",
    "version": 3
   },
   "file_extension": ".py",
   "mimetype": "text/x-python",
   "name": "python",
   "nbconvert_exporter": "python",
   "pygments_lexer": "ipython3",
   "version": "3.5.2"
  }
 },
 "nbformat": 4,
 "nbformat_minor": 2
}
