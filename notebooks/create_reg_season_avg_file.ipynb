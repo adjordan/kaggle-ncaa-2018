{
 "cells": [
  {
   "cell_type": "code",
   "execution_count": 13,
   "metadata": {},
   "outputs": [],
   "source": [
    "import numpy as np\n",
    "import pandas as pd"
   ]
  },
  {
   "cell_type": "code",
   "execution_count": 26,
   "metadata": {},
   "outputs": [
    {
     "name": "stdout",
     "output_type": "stream",
     "text": [
      "[2011, 2012, 2013, 2014, 2015, 2016, 2017]\n"
     ]
    }
   ],
   "source": [
    "reg_ratios = pd.read_csv(\"RegularSeasonDetailedResultsRatios.csv\")\n",
    "tour_ratios = pd.read_csv(\"NCAATourneyDetailedResultsRatios.csv\")\n",
    "\n",
    "# Get columns\n",
    "all_cols = reg_ratios.columns.tolist()\n",
    "cols_to_drop = [\"Season\", \"WTeamID\", \"WScore\", \"LTeamID\", \"LScore\", \"NumTeamWon\", \"Loc\"]\n",
    "stats_columns = [item for item in all_cols if item not in cols_to_drop]\n",
    "\n",
    "# seasons = pd.unique(reg_ratios[\"Season\"])\n",
    "seasons = [2011, 2012, 2013, 2014, 2015, 2016, 2017]\n",
    "print(seasons)"
   ]
  },
  {
   "cell_type": "code",
   "execution_count": 33,
   "metadata": {},
   "outputs": [],
   "source": [
    "team_ids = pd.DataFrame(index=range(7*68), columns=[\"Season\", \"TeamID\"])\n",
    "for i in range(len(seasons)):\n",
    "    season = seasons[i]\n",
    "    team_ids_for_season = pd.unique(tour_ratios.loc[tour_ratios[\"Season\"] == season, [\"WTeamID\", \"LTeamID\"]].values.ravel('K'))\n",
    "    for j in range(len(team_ids_for_season)):\n",
    "        team_ids.loc[i*68+j, \"Season\"] = season\n",
    "        team_ids.loc[i*68+j, \"TeamID\"] = team_ids_for_season[j]\n",
    "        \n",
    "# Create a data sets to hold regular season averages for every team in the tournament for every specified year\n",
    "reg_season_avg_cols = [\"Season\", \"TeamID\"] + stats_columns\n",
    "reg_season_avgs = pd.DataFrame(index=range(team_ids.shape[0]), columns=reg_season_avg_cols)\n",
    "reg_season_avgs[\"Season\"] = team_ids[\"Season\"]\n",
    "reg_season_avgs[\"TeamID\"] = team_ids[\"TeamID\"]\n",
    "\n",
    "for season in seasons:\n",
    "    team_ids_for_season = reg_season_avgs.loc[reg_season_avgs[\"Season\"] == season, \"TeamID\"].tolist()\n",
    "        \n",
    "    for team_id in team_ids_for_season:\n",
    "        games_all = reg_ratios.loc[(reg_ratios[\"WTeamID\"] == team_id) | (reg_ratios[\"LTeamID\"] == team_id)]\n",
    "        games = games_all.loc[games_all[\"Season\"] == season]\n",
    "        games.reset_index(inplace=True, drop=True)\n",
    "        games_stats = games.loc[:, stats_columns]\n",
    "        for i, row in games.iterrows():\n",
    "            if ((team_id == row[\"WTeamID\"]) & (row[\"NumTeamWon\"] == 0)) | ((team_id == row[\"LTeamID\"]) & (row[\"NumTeamWon\"] == 1)):\n",
    "                games_stats.iloc[i] = games_stats.iloc[i].apply(np.reciprocal)\n",
    "    \n",
    "        reg_season_avgs.loc[(reg_season_avgs[\"TeamID\"] == team_id) & (reg_season_avgs[\"Season\"] == season), stats_columns] = games_stats.mean(axis=0).ravel()\n",
    "\n",
    "reg_season_avgs.to_csv(\"RegularSeasonAverageRatios.csv\")"
   ]
  },
  {
   "cell_type": "code",
   "execution_count": null,
   "metadata": {},
   "outputs": [],
   "source": []
  }
 ],
 "metadata": {
  "kernelspec": {
   "display_name": "Python 3",
   "language": "python",
   "name": "python3"
  },
  "language_info": {
   "codemirror_mode": {
    "name": "ipython",
    "version": 3
   },
   "file_extension": ".py",
   "mimetype": "text/x-python",
   "name": "python",
   "nbconvert_exporter": "python",
   "pygments_lexer": "ipython3",
   "version": "3.5.2"
  }
 },
 "nbformat": 4,
 "nbformat_minor": 2
}
