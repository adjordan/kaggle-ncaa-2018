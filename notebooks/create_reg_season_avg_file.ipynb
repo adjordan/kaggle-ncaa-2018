{
 "cells": [
  {
   "cell_type": "code",
   "execution_count": 1,
   "metadata": {},
   "outputs": [],
   "source": [
    "import numpy as np\n",
    "import pandas as pd"
   ]
  },
  {
   "cell_type": "code",
   "execution_count": null,
   "metadata": {},
   "outputs": [],
   "source": [
    "reg_ratios = pd.read_csv(\"RegularSeasonDetailedResultsRatios.csv\")\n",
    "tour_ratios = pd.read_csv(\"NCAATourneyDetailedResultsRatios.csv\")\n",
    "\n",
    "# Get columns\n",
    "all_cols = reg_ratios.columns.tolist()\n",
    "cols_to_drop = [\"Season\", \"WTeamID\", \"WScore\", \"LTeamID\", \"LScore\", \"NumTeamWon\", \"Loc\"]\n",
    "stats_columns = [item for item in all_cols if item not in cols_to_drop]\n",
    "\n",
    "# seasons = pd.unique(reg_ratios[\"Season\"])\n",
    "seasons = [2011, 2012, 2013, 2014, 2015, 2016, 2017]\n",
    "print(seasons)"
   ]
  },
  {
   "cell_type": "code",
   "execution_count": null,
   "metadata": {},
   "outputs": [],
   "source": [
    "team_ids = pd.DataFrame(index=range(7*68), columns=[\"Season\", \"TeamID\"])\n",
    "for i in range(len(seasons)):\n",
    "    season = seasons[i]\n",
    "    team_ids_for_season = pd.unique(tour_ratios.loc[tour_ratios[\"Season\"] == season, [\"WTeamID\", \"LTeamID\"]].values.ravel('K'))\n",
    "    for j in range(len(team_ids_for_season)):\n",
    "        team_ids.loc[i*68+j, \"Season\"] = season\n",
    "        team_ids.loc[i*68+j, \"TeamID\"] = team_ids_for_season[j]\n",
    "        \n",
    "# Create a data sets to hold regular season averages for every team in the tournament for every specified year\n",
    "reg_season_avg_cols = [\"Season\", \"TeamID\"] + stats_columns\n",
    "reg_season_avgs = pd.DataFrame(index=range(team_ids.shape[0]), columns=reg_season_avg_cols)\n",
    "reg_season_avgs[\"Season\"] = team_ids[\"Season\"]\n",
    "reg_season_avgs[\"TeamID\"] = team_ids[\"TeamID\"]\n",
    "\n",
    "for season in seasons:\n",
    "    team_ids_for_season = reg_season_avgs.loc[reg_season_avgs[\"Season\"] == season, \"TeamID\"].tolist()\n",
    "        \n",
    "    for team_id in team_ids_for_season:\n",
    "        games_all = reg_ratios.loc[(reg_ratios[\"WTeamID\"] == team_id) | (reg_ratios[\"LTeamID\"] == team_id)]\n",
    "        games = games_all.loc[games_all[\"Season\"] == season]\n",
    "        games.reset_index(inplace=True, drop=True)\n",
    "        games_stats = games.loc[:, stats_columns]\n",
    "        for i, row in games.iterrows():\n",
    "            if ((team_id == row[\"WTeamID\"]) & (row[\"NumTeamWon\"] == 0)) | ((team_id == row[\"LTeamID\"]) & (row[\"NumTeamWon\"] == 1)):\n",
    "                games_stats.iloc[i] = games_stats.iloc[i].apply(np.reciprocal)\n",
    "    \n",
    "        reg_season_avgs.loc[(reg_season_avgs[\"TeamID\"] == team_id) & (reg_season_avgs[\"Season\"] == season), stats_columns] = games_stats.mean(axis=0).ravel()\n",
    "\n",
    "reg_season_avgs.to_csv(\"RegularSeasonAverageRatios.csv\")"
   ]
  },
  {
   "cell_type": "markdown",
   "metadata": {},
   "source": [
    "# Now, create all regular season averages for all teams, even if not in tournament"
   ]
  },
  {
   "cell_type": "code",
   "execution_count": 7,
   "metadata": {},
   "outputs": [],
   "source": [
    "root = \"/home/austin/Github/kaggle-ncaa-2018/\"\n",
    "reg_ratios = pd.read_csv(root + \"derived_data/ratios/RegularSeasonDetailedResultsRatios.csv\")\n",
    "\n",
    "# Get columns\n",
    "all_cols = reg_ratios.columns.tolist()\n",
    "cols_to_drop = [\"Season\", \"WTeamID\", \"WScore\", \"LTeamID\", \"LScore\", \"NumTeamWon\", \"Loc\"]\n",
    "stats_columns = [item for item in all_cols if item not in cols_to_drop]\n",
    "\n",
    "# seasons = pd.unique(reg_ratios[\"Season\"])\n",
    "seasons = range(2003, 2018)"
   ]
  },
  {
   "cell_type": "code",
   "execution_count": 8,
   "metadata": {},
   "outputs": [],
   "source": [
    "reg_season_avg_cols = [\"Season\", \"TeamID\"] + stats_columns\n",
    "avg_df = pd.DataFrame(columns=reg_season_avg_cols)\n",
    "\n",
    "for season in seasons:\n",
    "    team_ids_for_season = pd.unique(reg_ratios.loc[reg_ratios[\"Season\"] == season, [\"WTeamID\", \"LTeamID\"]].values.ravel('K'))\n",
    "    for team_id in team_ids_for_season:\n",
    "        avg_df = avg_df.append({\"Season\": season, \"TeamID\": team_id}, ignore_index=True)\n",
    "        \n",
    "        games_all = reg_ratios.loc[(reg_ratios[\"WTeamID\"] == team_id) | (reg_ratios[\"LTeamID\"] == team_id)]\n",
    "        games = games_all.loc[games_all[\"Season\"] == season]\n",
    "        games.reset_index(inplace=True, drop=True)\n",
    "        games_stats = games.loc[:, stats_columns]\n",
    "        for i, row in games.iterrows():\n",
    "            if ((team_id == row[\"WTeamID\"]) & (row[\"NumTeamWon\"] == 0)) | ((team_id == row[\"LTeamID\"]) & (row[\"NumTeamWon\"] == 1)):\n",
    "                games_stats.iloc[i] = games_stats.iloc[i].apply(np.reciprocal)\n",
    "                \n",
    "        avg_df.loc[(avg_df[\"TeamID\"] == team_id) & (avg_df[\"Season\"] == season), stats_columns] = games_stats.mean(axis=0).ravel()\n",
    "        \n",
    "# avg_df.to_csv(root + \"derived_data/ratios/RegularSeasonAverageStats.csv\")"
   ]
  },
  {
   "cell_type": "code",
   "execution_count": 9,
   "metadata": {},
   "outputs": [],
   "source": [
    "reg_comp = pd.read_csv(root + \"derived_data/composite/RegularSeasonCompositeStats.csv\")\n",
    "\n",
    "comp_columns = [item for item in reg_comp.columns.tolist() if item not in [\"Season\", \"TeamID\"]]\n",
    "\n",
    "avg_df_test = avg_df"
   ]
  },
  {
   "cell_type": "code",
   "execution_count": 10,
   "metadata": {
    "scrolled": false
   },
   "outputs": [
    {
     "name": "stdout",
     "output_type": "stream",
     "text": [
      "PIE              0.597778\n",
      "FG_PCT           0.498337\n",
      "TURNOVER_RATE    0.163772\n",
      "OFF_REB_PCT      0.366803\n",
      "FT_RATE          0.396624\n",
      "4FACTOR          0.373132\n",
      "OFF_EFF          1.112507\n",
      "DEF_EFF          0.982265\n",
      "ASSIST_RATIO     0.164072\n",
      "DEF_REB_PCT      0.683904\n",
      "FT_PCT           0.628299\n",
      "WINPCT           0.793103\n",
      "Name: 0, dtype: float64\n",
      "<class 'pandas.core.series.Series'>\n"
     ]
    }
   ],
   "source": [
    "# print(avg_df.shape)\n",
    "# print(reg_comp.loc[reg_comp[\"Season\"] > 2010].shape)\n",
    "# print(comp_columns)\n",
    "\n",
    "# Add columns\n",
    "for comp_column in comp_columns:\n",
    "    avg_df_test[comp_column] = float('NaN')\n",
    "    \n",
    "for i in range(avg_df.shape[0]):\n",
    "    season = avg_df_test.loc[i, \"Season\"]\n",
    "    team_id = avg_df_test.loc[i, \"TeamID\"]\n",
    "    reg_comp_row = reg_comp.loc[(reg_comp[\"Season\"] == season) & (reg_comp[\"TeamID\"] == team_id)]\n",
    "    \n",
    "    if(reg_comp_row.empty):\n",
    "        continue\n",
    "    reg_comp_row.reset_index(inplace=True, drop=True)\n",
    "    reg_comp_row = reg_comp_row.iloc[0]\n",
    "    \n",
    "    if i == 1:\n",
    "        print(reg_comp_row[comp_columns])\n",
    "        print(type(reg_comp_row[comp_columns]))\n",
    "    \n",
    "    avg_df_test.loc[(avg_df_test[\"Season\"] == season) & (avg_df_test[\"TeamID\"] == team_id), comp_columns] = reg_comp_row[comp_columns].ravel()"
   ]
  },
  {
   "cell_type": "code",
   "execution_count": null,
   "metadata": {},
   "outputs": [],
   "source": [
    "print(avg_df_test)"
   ]
  },
  {
   "cell_type": "code",
   "execution_count": 11,
   "metadata": {},
   "outputs": [],
   "source": [
    "avg_df_test.to_csv(root + \"derived_data/ratios/RegularSeasonAverageRatiosWithComposites.csv\")"
   ]
  },
  {
   "cell_type": "code",
   "execution_count": null,
   "metadata": {},
   "outputs": [],
   "source": []
  }
 ],
 "metadata": {
  "kernelspec": {
   "display_name": "Python 3",
   "language": "python",
   "name": "python3"
  },
  "language_info": {
   "codemirror_mode": {
    "name": "ipython",
    "version": 3
   },
   "file_extension": ".py",
   "mimetype": "text/x-python",
   "name": "python",
   "nbconvert_exporter": "python",
   "pygments_lexer": "ipython3",
   "version": "3.5.2"
  }
 },
 "nbformat": 4,
 "nbformat_minor": 2
}
