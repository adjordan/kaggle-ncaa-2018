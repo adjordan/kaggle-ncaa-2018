{
 "cells": [
  {
   "cell_type": "code",
   "execution_count": 6,
   "metadata": {},
   "outputs": [],
   "source": [
    "import pandas as pd\n",
    "import random"
   ]
  },
  {
   "cell_type": "code",
   "execution_count": 2,
   "metadata": {},
   "outputs": [],
   "source": [
    "# Load data\n",
    "df = pd.read_csv(\"RegularSeasonDetailedResults.csv\")"
   ]
  },
  {
   "cell_type": "code",
   "execution_count": 3,
   "metadata": {},
   "outputs": [],
   "source": [
    "# Columns to keep\n",
    "new_df_columns = [\"WFGP\", \"WFGP3\", \"WFTP\", \"WORP\", \"WDRP\", \"WAst\", \"WTO\", \"WStl\", \"WBlk\",\n",
    "                  \"LFGP\", \"LFGP3\", \"LFTP\", \"LORP\", \"LDRP\", \"LAst\", \"LTO\", \"LStl\", \"LBlk\"]\n",
    "\n",
    "refined = pd.DataFrame(index=range(df.shape[0]), columns=new_df_columns)\n",
    "\n",
    "# Winning team stats\n",
    "refined[\"WFGP\"] = df[\"WFGM\"] / df[\"WFGA\"]\n",
    "refined[\"WFGP3\"] = df[\"WFGM3\"] / df[\"WFGA3\"]\n",
    "refined[\"WFTP\"] = df[\"WFTM\"] / df[\"WFTA\"]\n",
    "refined[\"WORP\"] = df[\"WOR\"] / (df[\"WOR\"] + df[\"LDR\"])\n",
    "refined[\"WDRP\"] = df[\"WDR\"] / (df[\"WDR\"] + df[\"LOR\"])\n",
    "refined[\"WAst\"] = df[\"WAst\"]\n",
    "refined[\"WTO\"] = df[\"WTO\"]\n",
    "refined[\"WStl\"] = df[\"WStl\"]\n",
    "refined[\"WBlk\"] = df[\"WBlk\"]\n",
    "\n",
    "# Losing team stats\n",
    "refined[\"LFGP\"] = df[\"LFGM\"] / df[\"LFGA\"]\n",
    "refined[\"LFGP3\"] = df[\"LFGM3\"] / df[\"LFGA3\"]\n",
    "refined[\"LFTP\"] = df[\"LFTM\"] / df[\"LFTA\"]\n",
    "refined[\"LORP\"] = df[\"LOR\"] / (df[\"LOR\"] + df[\"WDR\"])\n",
    "refined[\"LDRP\"] = df[\"LDR\"] / (df[\"LDR\"] + df[\"WOR\"])\n",
    "refined[\"LAst\"] = df[\"LAst\"]\n",
    "refined[\"LTO\"] = df[\"LTO\"]\n",
    "refined[\"LStl\"] = df[\"LStl\"]\n",
    "refined[\"LBlk\"] = df[\"LBlk\"]\n",
    "\n",
    "# Round all values to 3 decimal places\n",
    "refined = refined.round(3)\n",
    "\n",
    "# # Write to csv\n",
    "# refined.to_csv(\"RegularSeasonDetailedResultsRefined.csv\")"
   ]
  },
  {
   "cell_type": "code",
   "execution_count": 4,
   "metadata": {},
   "outputs": [],
   "source": [
    "# # Load data\n",
    "# refined = pd.read_csv(\"RegularSeasonDetailedResultsRefined.csv\")\n",
    "\n",
    "# Create empty dataframe for fractional data\n",
    "frac_cols = [\"FGPR\", \"FGR3\", \"FTR\", \"ORR\", \"DRR\", \"AstR\", \"TOR\", \"StlR\", \"BlkR\", \"Num\"]\n",
    "frac_cols_w_winner = [\"FGPR\", \"FGR3\", \"FTR\", \"ORR\", \"DRR\", \"AstR\", \"TOR\", \"StlR\", \"BlkR\", \"Num\", \"NumTeamWon\"]"
   ]
  },
  {
   "cell_type": "code",
   "execution_count": 7,
   "metadata": {},
   "outputs": [
    {
     "name": "stdout",
     "output_type": "stream",
     "text": [
      "Finished game 0\n",
      "Finished game 5000\n",
      "Finished game 10000\n",
      "Finished game 15000\n",
      "Finished game 20000\n",
      "Finished game 25000\n",
      "Finished game 30000\n",
      "Finished game 35000\n",
      "Finished game 40000\n",
      "Finished game 45000\n",
      "Finished game 50000\n",
      "Finished game 55000\n",
      "Finished game 60000\n",
      "Finished game 65000\n",
      "Finished game 70000\n",
      "Finished game 75000\n"
     ]
    }
   ],
   "source": [
    "ratios = pd.DataFrame(index=range(refined.shape[0]), columns=frac_cols_w_winner)\n",
    "w_cols = [\"WFGP\", \"WFGP3\", \"WFTP\", \"WORP\", \"WDRP\", \"WAst\", \"WTO\", \"WStl\", \"WBlk\"]\n",
    "l_cols = [\"LFGP\", \"LFGP3\", \"LFTP\", \"LORP\", \"LDRP\", \"LAst\", \"LTO\", \"LStl\", \"LBlk\"]\n",
    "\n",
    "for i in range(refined.shape[0]):\n",
    "    if (i % 5000 == 0):\n",
    "        print(\"Finished game {}\".format(i))\n",
    "    game = refined.iloc[i]\n",
    "    w_team_stats = game[w_cols]\n",
    "    l_team_stats = game[l_cols]\n",
    "    r = random.random()\n",
    "    if r > 0.5:\n",
    "        ratios.loc[i, frac_cols] = w_team_stats / l_team_stats\n",
    "        ratios.loc[i, \"NumTeamWon\"] = 1\n",
    "    else:\n",
    "        ratios.loc[i, frac_cols] = l_team_stats / w_team_stats\n",
    "        ratios.loc[i, \"NumTeamWon\"] = 0\n",
    "        \n",
    "ratios = ratios.round(3)\n",
    "ratios.to_csv(\"RegularSeasonDetailedResultsRatios.csv\")"
   ]
  },
  {
   "cell_type": "code",
   "execution_count": 16,
   "metadata": {},
   "outputs": [
    {
     "name": "stdout",
     "output_type": "stream",
     "text": [
      "WFGP      0.350\n",
      "WFGP3     0.059\n",
      "WFTP      0.842\n",
      "WORP      0.341\n",
      "WDRP      0.679\n",
      "WAst      5.000\n",
      "WTO       5.000\n",
      "WStl     10.000\n",
      "WBlk      3.000\n",
      "Name: 76635, dtype: float64\n",
      "LFGP      0.417\n",
      "LFGP3     0.353\n",
      "LFTP      0.875\n",
      "LORP      0.321\n",
      "LDRP      0.659\n",
      "LAst     10.000\n",
      "LTO      17.000\n",
      "LStl      1.000\n",
      "LBlk      7.000\n",
      "Name: 76635, dtype: float64\n"
     ]
    },
    {
     "data": {
      "text/plain": [
       "array([ 0.83932854,  0.16713881,  0.96228571,  1.0623053 ,  1.03034901,\n",
       "        0.5       ,  0.29411765, 10.        ,  0.42857143])"
      ]
     },
     "execution_count": 16,
     "metadata": {},
     "output_type": "execute_result"
    }
   ],
   "source": [
    "print(w_team_stats)\n",
    "print(l_team_stats)\n",
    "w_team_stats.as_matrix() / l_team_stats.as_matrix()"
   ]
  },
  {
   "cell_type": "code",
   "execution_count": 10,
   "metadata": {},
   "outputs": [
    {
     "name": "stdout",
     "output_type": "stream",
     "text": [
      "(76636, 18)\n"
     ]
    }
   ],
   "source": [
    "print(refined.shape)"
   ]
  },
  {
   "cell_type": "code",
   "execution_count": null,
   "metadata": {},
   "outputs": [],
   "source": []
  }
 ],
 "metadata": {
  "kernelspec": {
   "display_name": "Python 3",
   "language": "python",
   "name": "python3"
  },
  "language_info": {
   "codemirror_mode": {
    "name": "ipython",
    "version": 3
   },
   "file_extension": ".py",
   "mimetype": "text/x-python",
   "name": "python",
   "nbconvert_exporter": "python",
   "pygments_lexer": "ipython3",
   "version": "3.5.2"
  }
 },
 "nbformat": 4,
 "nbformat_minor": 2
}
