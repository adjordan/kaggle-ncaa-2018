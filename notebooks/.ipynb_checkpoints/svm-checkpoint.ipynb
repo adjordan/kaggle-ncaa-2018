{
 "cells": [
  {
   "cell_type": "code",
   "execution_count": 15,
   "metadata": {},
   "outputs": [],
   "source": [
    "from sklearn.svm import SVR\n",
    "import pandas as pd\n",
    "import numpy as np\n",
    "import random\n",
    "from sklearn.metrics import accuracy_score, log_loss\n",
    "\n",
    "\n",
    "root = \"/home/austin/Github/kaggle-ncaa-2018/\""
   ]
  },
  {
   "cell_type": "code",
   "execution_count": 10,
   "metadata": {},
   "outputs": [
    {
     "name": "stdout",
     "output_type": "stream",
     "text": [
      "['FGMR', 'FGAR', 'FGMR3', 'FGAR3', 'FTMR', 'FTAR', 'ORR', 'DRR', 'AstR', 'TOR', 'StlR', 'BlkR', 'PFR', 'PIE', 'FG_PCT', 'TURNOVER_RATE', 'OFF_REB_PCT', 'FT_RATE', '4FACTOR', 'OFF_EFF', 'DEF_EFF', 'ASSIST_RATIO', 'DEF_REB_PCT', 'FT_PCT', 'WINPCT']\n"
     ]
    }
   ],
   "source": [
    "# Import relevant data files\n",
    "reg_ratios = pd.read_csv(root + \"derived_data/ratios/RegularSeasonDetailedResultsRatios.csv\")\n",
    "reg_ratios_comp = pd.read_csv(root + \"derived_data/ratios/RegularSeasonAverageRatiosWithComposites.csv\")\n",
    "tour_ratios = pd.read_csv(root + \"derived_data/ratios/NCAATourneyDetailedResultsRatios.csv\")\n",
    "reg_season_avgs = pd.read_csv(root + \"derived_data/ratios/RegularSeasonAverageRatiosForTournamentTeams.csv\")\n",
    "\n",
    "# List of all columns in the datasets\n",
    "all_cols = reg_ratios_comp.columns.tolist()\n",
    "# all_cols = [\"Season\", \"WTeamID\", \"WScore\", \"LTeamID\", \"LScore\", \"NumTeamWon\", \"Loc\",\n",
    "#                  \"FGMR\", \"FGAR\", \"FGMR3\", \"FGAR3\", \"FTMR\", \"FTAR\", \"ORR\", \"DRR\", \"AstR\",\n",
    "#                  \"TOR\", \"StlR\", \"BlkR\", \"PFR\"]\n",
    "\n",
    "# Columns that won't be used in the dataset\n",
    "cols_to_drop = [\"Season\", \"TeamID\"]\n",
    "\n",
    "# Columns that will be used in the dataset\n",
    "stats_columns = [item for item in all_cols if item not in cols_to_drop]\n",
    "# stats_columns = [\"PIE\", \"FT_RATE\", \"OFF_EFF\", \"FGMR\", \"FTMR\", \"WINPCT\", \"BlkR\", \"OFF_REB_PCT\", \"TURNOVER_RATE\",\n",
    "#                  \"StlR\", \"TOR\"]\n",
    "\n",
    "\n",
    "print(stats_columns)\n",
    "\n",
    "# Seasons to look at\n",
    "seasons = [2011, 2012, 2013, 2014, 2015, 2016, 2017]\n",
    "seasons_test = [2017]\n",
    "seasons_train = [season for season in seasons if season not in seasons_test]\n",
    "\n",
    "# # Specify what to use as the training data\n",
    "# train_data = reg_ratios_comp\n",
    "\n",
    "# # Get all of the training data for the given years\n",
    "# train_x = train_data.loc[train_data[\"Season\"].isin(seasons)].drop(labels=cols_to_drop, axis=1).as_matrix()\n",
    "# train_y = train_data.loc[train_data[\"Season\"].isin(seasons)][\"NumTeamWon\"].as_matrix()"
   ]
  },
  {
   "cell_type": "code",
   "execution_count": 11,
   "metadata": {},
   "outputs": [],
   "source": [
    "tourney_games = tour_ratios.loc[tour_ratios[\"Season\"].isin(seasons)]\n",
    "tourney_games = tourney_games.reset_index(drop=True)\n",
    "\n",
    "all_data = pd.DataFrame(index=range(tourney_games.shape[0]), columns= [\"Season\"] + stats_columns + [\"NumTeamWon\"])\n",
    "all_data.loc[:,\"NumTeamWon\"] = np.ones(tourney_games.shape[0])\n",
    "index = 0\n",
    "for i in range(len(seasons)):\n",
    "    season = seasons[i]\n",
    "    tourney_games_for_season = tourney_games.loc[tourney_games[\"Season\"] == season].reset_index()\n",
    "    for j, row in tourney_games_for_season.iterrows():\n",
    "        all_data.loc[index, \"Season\"] = season\n",
    "        teamA_id = tourney_games_for_season.at[j, \"WTeamID\"]\n",
    "        teamB_id = tourney_games_for_season.at[j, \"LTeamID\"]\n",
    "        teamA_stats = reg_ratios_comp.loc[(reg_ratios_comp[\"TeamID\"] == teamA_id) & (reg_ratios_comp[\"Season\"] == season), stats_columns].as_matrix()\n",
    "        teamB_stats = reg_ratios_comp.loc[(reg_ratios_comp[\"TeamID\"] == teamB_id) & (reg_ratios_comp[\"Season\"] == season), stats_columns].as_matrix()\n",
    "        r = random.random()\n",
    "        if r > 0.5:\n",
    "            all_data.loc[index, stats_columns] = (teamA_stats / teamB_stats).ravel()\n",
    "        else:\n",
    "            all_data.loc[index, stats_columns] = (teamB_stats / teamA_stats).ravel()\n",
    "            all_data.loc[index, \"NumTeamWon\"] = 0\n",
    "            \n",
    "#         if index == 0:\n",
    "#             print(all_data.loc[index, stats_columns])\n",
    "#             print(teamA_stats / teamB_stats)\n",
    "#             print(teamA_stats)\n",
    "#             print(teamB_stats)\n",
    "        \n",
    "        index += 1"
   ]
  },
  {
   "cell_type": "code",
   "execution_count": 12,
   "metadata": {},
   "outputs": [
    {
     "name": "stdout",
     "output_type": "stream",
     "text": [
      "Train X:  (402, 25)\n",
      "Train Y:  (402,)\n",
      "Test X:   (67, 25)\n",
      "Test Y:   (67,)\n"
     ]
    }
   ],
   "source": [
    "train_x = all_data.loc[all_data[\"Season\"].isin(seasons_train)][stats_columns].as_matrix()\n",
    "train_y = all_data.loc[all_data[\"Season\"].isin(seasons_train)][\"NumTeamWon\"].as_matrix()\n",
    "test_x = all_data.loc[all_data[\"Season\"].isin(seasons_test)][stats_columns].as_matrix()\n",
    "test_y = all_data.loc[all_data[\"Season\"].isin(seasons_test)][\"NumTeamWon\"].as_matrix()\n",
    "\n",
    "print(\"Train X: \", train_x.shape)\n",
    "print(\"Train Y: \", train_y.shape)\n",
    "print(\"Test X:  \", test_x.shape)\n",
    "print(\"Test Y:  \", test_y.shape)"
   ]
  },
  {
   "cell_type": "code",
   "execution_count": null,
   "metadata": {},
   "outputs": [],
   "source": [
    "from sklearn.model_selection import GridSearchCV\n",
    "\n",
    "parameters = {'C': np.linspace(0.1, 100, 999), 'epsilon': np.linspace(0,1,100)}\n",
    "clf = GridSearchCV(SVR(), parameters)\n",
    "clf.fit(train_x, train_y.ravel())"
   ]
  },
  {
   "cell_type": "code",
   "execution_count": 18,
   "metadata": {},
   "outputs": [
    {
     "name": "stdout",
     "output_type": "stream",
     "text": [
      "Accuracy, Train:  0.6915422885572139\n",
      "Log Loss, Train:  0.5671169929158287\n",
      "\n",
      "Accuracy, Test:   0.7014925373134329\n",
      "Log Loss, Test:   2.024311438577501\n"
     ]
    }
   ],
   "source": [
    "preds_train = clf.predict(train_x)\n",
    "preds_test = clf.predict(test_x)\n",
    "\n",
    "threshold = 0.2\n",
    "preds_test[preds_test < threshold] = 0\n",
    "preds_test[preds_test > 1 - threshold] = 1\n",
    "\n",
    "\n",
    "print(\"Accuracy, Train: \", accuracy_score(train_y, preds_train > 0.5))\n",
    "print(\"Log Loss, Train: \", log_loss(train_y, preds_train))\n",
    "print(\"\")\n",
    "print(\"Accuracy, Test:  \", accuracy_score(test_y, preds_test > 0.5))\n",
    "print(\"Log Loss, Test:  \", log_loss(test_y, preds_test))"
   ]
  },
  {
   "cell_type": "code",
   "execution_count": null,
   "metadata": {},
   "outputs": [],
   "source": []
  }
 ],
 "metadata": {
  "kernelspec": {
   "display_name": "Python 3",
   "language": "python",
   "name": "python3"
  },
  "language_info": {
   "codemirror_mode": {
    "name": "ipython",
    "version": 3
   },
   "file_extension": ".py",
   "mimetype": "text/x-python",
   "name": "python",
   "nbconvert_exporter": "python",
   "pygments_lexer": "ipython3",
   "version": "3.5.2"
  }
 },
 "nbformat": 4,
 "nbformat_minor": 2
}
