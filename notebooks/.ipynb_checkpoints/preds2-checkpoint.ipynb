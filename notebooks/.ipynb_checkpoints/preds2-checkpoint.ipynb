{
 "cells": [
  {
   "cell_type": "code",
   "execution_count": 33,
   "metadata": {},
   "outputs": [],
   "source": [
    "# Imports\n",
    "import numpy as np\n",
    "import pandas as pd\n",
    "import random\n",
    "from sklearn.ensemble import RandomForestRegressor, ExtraTreesRegressor\n",
    "from sklearn.metrics import accuracy_score, log_loss\n",
    "import math\n",
    "\n",
    "root = \"/home/austin/Github/kaggle-ncaa-2018/\""
   ]
  },
  {
   "cell_type": "code",
   "execution_count": 34,
   "metadata": {},
   "outputs": [
    {
     "name": "stdout",
     "output_type": "stream",
     "text": [
      "['FGMR', 'FGAR', 'FGMR3', 'FGAR3', 'FTMR', 'FTAR', 'ORR', 'DRR', 'AstR', 'TOR', 'StlR', 'BlkR', 'PFR', 'PIE', 'FG_PCT', 'TURNOVER_RATE', 'OFF_REB_PCT', 'FT_RATE', '4FACTOR', 'OFF_EFF', 'DEF_EFF', 'ASSIST_RATIO', 'DEF_REB_PCT', 'FT_PCT', 'WINPCT']\n"
     ]
    }
   ],
   "source": [
    "# Import relevant data files\n",
    "reg_ratios = pd.read_csv(root + \"derived_data/ratios/RegularSeasonDetailedResultsRatios.csv\")\n",
    "reg_ratios_comp = pd.read_csv(root + \"derived_data/ratios/RegularSeasonAverageRatiosWithComposites.csv\")\n",
    "tour_ratios = pd.read_csv(root + \"derived_data/ratios/NCAATourneyDetailedResultsRatios.csv\")\n",
    "reg_season_avgs = pd.read_csv(root + \"derived_data/ratios/RegularSeasonAverageRatiosForTournamentTeams.csv\")\n",
    "seeds = pd.read_csv(root + \"original_data/NCAATourneySeeds.csv\")\n",
    "\n",
    "# List of all columns in the datasets\n",
    "all_cols = reg_ratios_comp.columns.tolist()\n",
    "# all_cols = [\"Season\", \"WTeamID\", \"WScore\", \"LTeamID\", \"LScore\", \"NumTeamWon\", \"Loc\",\n",
    "#                  \"FGMR\", \"FGAR\", \"FGMR3\", \"FGAR3\", \"FTMR\", \"FTAR\", \"ORR\", \"DRR\", \"AstR\",\n",
    "#                  \"TOR\", \"StlR\", \"BlkR\", \"PFR\"]\n",
    "\n",
    "# Columns that won't be used in the dataset\n",
    "cols_to_drop = [\"Season\", \"TeamID\"]\n",
    "\n",
    "# Columns that will be used in the dataset\n",
    "stats_columns = [item for item in all_cols if item not in cols_to_drop]\n",
    "# stats_columns = [\"PIE\", \"FT_RATE\", \"OFF_EFF\", \"FGMR\", \"FTMR\", \"WINPCT\", \"BlkR\", \"OFF_REB_PCT\", \"TURNOVER_RATE\",\n",
    "#                  \"StlR\", \"TOR\"]\n",
    "\n",
    "print(stats_columns)\n",
    "\n",
    "# Seasons to look at\n",
    "seasons = range(2003, 2018)\n",
    "seasons_test = [2014, 2015, 2016, 2017]\n",
    "seasons_train = [season for season in seasons if season not in seasons_test]\n",
    "\n",
    "# # Specify what to use as the training data\n",
    "# train_data = reg_ratios_comp\n",
    "\n",
    "# # Get all of the training data for the given years\n",
    "# train_x = train_data.loc[train_data[\"Season\"].isin(seasons)].drop(labels=cols_to_drop, axis=1).as_matrix()\n",
    "# train_y = train_data.loc[train_data[\"Season\"].isin(seasons)][\"NumTeamWon\"].as_matrix()"
   ]
  },
  {
   "cell_type": "code",
   "execution_count": 35,
   "metadata": {},
   "outputs": [],
   "source": [
    "tourney_games = tour_ratios.loc[tour_ratios[\"Season\"].isin(seasons)]\n",
    "tourney_games = tourney_games.reset_index(drop=True)\n",
    "\n",
    "all_data = pd.DataFrame(index=range(tourney_games.shape[0]), columns= [\"Season\"] + stats_columns + [\"NumTeamWon\", \"NumTeamSeed\", \"DenTeamSeed\"])\n",
    "all_data.loc[:,\"NumTeamWon\"] = np.ones(tourney_games.shape[0])\n",
    "index = 0\n",
    "for i in range(len(seasons)):\n",
    "    season = seasons[i]\n",
    "    tourney_games_for_season = tourney_games.loc[tourney_games[\"Season\"] == season].reset_index()\n",
    "    for j, row in tourney_games_for_season.iterrows():\n",
    "        all_data.loc[index, \"Season\"] = season\n",
    "        teamA_id = tourney_games_for_season.at[j, \"WTeamID\"]\n",
    "        teamB_id = tourney_games_for_season.at[j, \"LTeamID\"]\n",
    "        \n",
    "        teamA_seed = seeds.loc[(seeds[\"Season\"] == season) & (seeds[\"TeamID\"] == teamA_id), \"Seed\"].reset_index(drop=True)[0]\n",
    "        teamA_seed = int(teamA_seed[1:3])\n",
    "        \n",
    "        teamB_seed = seeds.loc[(seeds[\"Season\"] == season) & (seeds[\"TeamID\"] == teamB_id), \"Seed\"].reset_index(drop=True)[0]\n",
    "        teamB_seed = int(teamB_seed[1:3])\n",
    "        \n",
    "#         if teamB_seed == teamA_seed:\n",
    "#             print(season)\n",
    "#             print(teamA_id)\n",
    "#             print(teamB_id)\n",
    "#             print(teamB_seed)\n",
    "#             print(\"\")\n",
    "        \n",
    "        teamA_stats = reg_ratios_comp.loc[(reg_ratios_comp[\"TeamID\"] == teamA_id) & (reg_ratios_comp[\"Season\"] == season), stats_columns].as_matrix()\n",
    "        teamB_stats = reg_ratios_comp.loc[(reg_ratios_comp[\"TeamID\"] == teamB_id) & (reg_ratios_comp[\"Season\"] == season), stats_columns].as_matrix()\n",
    "        r = random.random()\n",
    "        \n",
    "#         print(teamA_stats)\n",
    "#         print(teamB_stats)\n",
    "#         print(season)\n",
    "#         print(teamA_id)\n",
    "#         print(teamB_id)\n",
    "        \n",
    "        if r > 0.5:\n",
    "            all_data.loc[index, stats_columns] = (teamA_stats / teamB_stats).ravel()\n",
    "            all_data.loc[index, \"NumTeamSeed\"] = teamA_seed\n",
    "            all_data.loc[index, \"DenTeamSeed\"] = teamB_seed\n",
    "        else:\n",
    "            all_data.loc[index, stats_columns] = (teamB_stats / teamA_stats).ravel()\n",
    "            all_data.loc[index, \"NumTeamSeed\"] = teamB_seed\n",
    "            all_data.loc[index, \"DenTeamSeed\"] = teamA_seed\n",
    "            all_data.loc[index, \"NumTeamWon\"] = 0\n",
    "            \n",
    "#         if index == 0:\n",
    "#             print(all_data.loc[index, stats_columns])\n",
    "#             print(teamA_stats / teamB_stats)\n",
    "#             print(teamA_stats)\n",
    "#             print(teamB_stats)\n",
    "        \n",
    "        index += 1\n",
    "\n",
    "all_data = all_data.dropna(axis=0, how='any')\n",
    "stats_columns = stats_columns + [\"NumTeamSeed\", \"DenTeamSeed\"]"
   ]
  },
  {
   "cell_type": "code",
   "execution_count": 36,
   "metadata": {},
   "outputs": [
    {
     "name": "stdout",
     "output_type": "stream",
     "text": [
      "Train X:  (713, 27)\n",
      "Train Y:  (713,)\n",
      "Test X:   (268, 27)\n",
      "Test Y:   (268,)\n"
     ]
    }
   ],
   "source": [
    "train_x = all_data.loc[all_data[\"Season\"].isin(seasons_train)][stats_columns].as_matrix()\n",
    "train_y = all_data.loc[all_data[\"Season\"].isin(seasons_train)][\"NumTeamWon\"].as_matrix()\n",
    "test_x = all_data.loc[all_data[\"Season\"].isin(seasons_test)][stats_columns].as_matrix()\n",
    "test_y = all_data.loc[all_data[\"Season\"].isin(seasons_test)][\"NumTeamWon\"].as_matrix()\n",
    "\n",
    "print(\"Train X: \", train_x.shape)\n",
    "print(\"Train Y: \", train_y.shape)\n",
    "print(\"Test X:  \", test_x.shape)\n",
    "print(\"Test Y:  \", test_y.shape)"
   ]
  },
  {
   "cell_type": "code",
   "execution_count": 48,
   "metadata": {},
   "outputs": [
    {
     "name": "stdout",
     "output_type": "stream",
     "text": [
      "OOB Score:  0.223938116940277\n"
     ]
    }
   ],
   "source": [
    "clf = RandomForestRegressor(n_estimators=30000, oob_score=True, max_features=1, min_samples_leaf=1, n_jobs=-1)\n",
    "clf.fit(train_x, train_y.ravel())\n",
    "print(\"OOB Score: \", clf.oob_score_)"
   ]
  },
  {
   "cell_type": "code",
   "execution_count": 49,
   "metadata": {},
   "outputs": [
    {
     "name": "stdout",
     "output_type": "stream",
     "text": [
      "Accuracy, Train:  0.8737727910238429\n",
      "Log Loss, Train:  0.3945551159208841\n",
      "\n",
      "Accuracy, Test:   0.6791044776119403\n",
      "Log Loss, Test:   0.5783440956564604\n"
     ]
    }
   ],
   "source": [
    "preds_train = clf.predict(train_x)\n",
    "preds_test = clf.predict(test_x)\n",
    "\n",
    "# preds_test_old = np.copy(preds_test)\n",
    "\n",
    "# threshold = 0.05\n",
    "# preds_test[preds_test < threshold] = 0\n",
    "# preds_test[preds_test > 1 - threshold] = 1\n",
    "# preds_test[(preds_test < 0.7) & (preds_test > 0.5)] = 0.51\n",
    "# preds_test[(preds_test < 0.5) & (preds_test > 0.3)] = 0.49\n",
    "\n",
    "# print(preds_test)\n",
    "\n",
    "print(\"Accuracy, Train: \", accuracy_score(train_y, preds_train > 0.5))\n",
    "print(\"Log Loss, Train: \", log_loss(train_y, preds_train))\n",
    "print(\"\")\n",
    "print(\"Accuracy, Test:  \", accuracy_score(test_y, preds_test > 0.5))\n",
    "print(\"Log Loss, Test:  \", log_loss(test_y, preds_test))"
   ]
  },
  {
   "cell_type": "code",
   "execution_count": 47,
   "metadata": {},
   "outputs": [
    {
     "name": "stdout",
     "output_type": "stream",
     "text": [
      "FG_PCT : 0.02411331695751205\n",
      "DRR : 0.02444033860863327\n",
      "TOR : 0.025754988842849876\n",
      "ORR : 0.0262391099852396\n",
      "FGMR3 : 0.026565110367239724\n",
      "FGAR3 : 0.026799119791528575\n",
      "FGAR : 0.027689351280065624\n",
      "FTAR : 0.02807102758401814\n",
      "FTMR : 0.028167758420651508\n",
      "PFR : 0.028626524095911467\n",
      "FT_PCT : 0.028634258904189528\n",
      "ASSIST_RATIO : 0.02870608049808498\n",
      "BlkR : 0.02878628038962802\n",
      "AstR : 0.029168831941190153\n",
      "4FACTOR : 0.02918130960006994\n",
      "DEF_REB_PCT : 0.029324773397607078\n",
      "TURNOVER_RATE : 0.030669835010330004\n",
      "FT_RATE : 0.030891241080576056\n",
      "StlR : 0.0332116117132303\n",
      "DEF_EFF : 0.035517395346368254\n",
      "OFF_REB_PCT : 0.040669000083521784\n",
      "OFF_EFF : 0.045768268549363014\n",
      "WINPCT : 0.04880413826512434\n",
      "FGMR : 0.051938078016468735\n",
      "PIE : 0.0669112627190101\n",
      "NumTeamSeed : 0.0846462296476583\n",
      "DenTeamSeed : 0.0907047589039301\n"
     ]
    }
   ],
   "source": [
    "variables = stats_columns + [\"NumTeamSeed\", \"DenTeamSeed\"]\n",
    "feature_importance = clf.feature_importances_\n",
    "\n",
    "feature_importance, variables = (list(t) for t in zip(*sorted(zip(feature_importance, variables))))\n",
    "\n",
    "for i in range(len(feature_importance)):\n",
    "    print(variables[i], \":\", feature_importance[i])"
   ]
  },
  {
   "cell_type": "code",
   "execution_count": null,
   "metadata": {},
   "outputs": [],
   "source": []
  },
  {
   "cell_type": "code",
   "execution_count": null,
   "metadata": {},
   "outputs": [],
   "source": []
  }
 ],
 "metadata": {
  "kernelspec": {
   "display_name": "Python 3",
   "language": "python",
   "name": "python3"
  },
  "language_info": {
   "codemirror_mode": {
    "name": "ipython",
    "version": 3
   },
   "file_extension": ".py",
   "mimetype": "text/x-python",
   "name": "python",
   "nbconvert_exporter": "python",
   "pygments_lexer": "ipython3",
   "version": "3.5.2"
  }
 },
 "nbformat": 4,
 "nbformat_minor": 2
}
