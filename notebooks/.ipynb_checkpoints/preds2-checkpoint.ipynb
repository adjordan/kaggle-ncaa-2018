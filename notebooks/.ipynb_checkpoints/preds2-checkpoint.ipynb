{
 "cells": [
  {
   "cell_type": "code",
   "execution_count": 47,
   "metadata": {},
   "outputs": [],
   "source": [
    "# Imports\n",
    "import numpy as np\n",
    "import pandas as pd\n",
    "import random\n",
    "from sklearn.ensemble import RandomForestRegressor\n",
    "from sklearn.metrics import accuracy_score, log_loss\n",
    "import math\n",
    "\n",
    "root = \"/home/austin/Github/kaggle-ncaa-2018/\""
   ]
  },
  {
   "cell_type": "code",
   "execution_count": 48,
   "metadata": {},
   "outputs": [
    {
     "name": "stdout",
     "output_type": "stream",
     "text": [
      "['PIE', 'FT_RATE', 'OFF_EFF', 'FGMR', 'FTMR', 'WINPCT', 'BlkR', 'OFF_REB_PCT', 'TURNOVER_RATE', 'StlR', 'TOR']\n"
     ]
    }
   ],
   "source": [
    "# Import relevant data files\n",
    "reg_ratios = pd.read_csv(root + \"derived_data/ratios/RegularSeasonDetailedResultsRatios.csv\")\n",
    "reg_ratios_comp = pd.read_csv(root + \"derived_data/ratios/RegularSeasonAverageRatiosWithComposites.csv\")\n",
    "tour_ratios = pd.read_csv(root + \"derived_data/ratios/NCAATourneyDetailedResultsRatios.csv\")\n",
    "reg_season_avgs = pd.read_csv(root + \"derived_data/ratios/RegularSeasonAverageRatiosForTournamentTeams.csv\")\n",
    "\n",
    "# List of all columns in the datasets\n",
    "all_cols = reg_ratios_comp.columns.tolist()\n",
    "# all_cols = [\"Season\", \"WTeamID\", \"WScore\", \"LTeamID\", \"LScore\", \"NumTeamWon\", \"Loc\",\n",
    "#                  \"FGMR\", \"FGAR\", \"FGMR3\", \"FGAR3\", \"FTMR\", \"FTAR\", \"ORR\", \"DRR\", \"AstR\",\n",
    "#                  \"TOR\", \"StlR\", \"BlkR\", \"PFR\"]\n",
    "\n",
    "# Columns that won't be used in the dataset\n",
    "cols_to_drop = [\"Season\", \"TeamID\"]\n",
    "\n",
    "# Columns that will be used in the dataset\n",
    "# stats_columns = [item for item in all_cols if item not in cols_to_drop]\n",
    "stats_columns = [\"PIE\", \"FT_RATE\", \"OFF_EFF\", \"FGMR\", \"FTMR\", \"WINPCT\", \"BlkR\", \"OFF_REB_PCT\", \"TURNOVER_RATE\",\n",
    "                 \"StlR\", \"TOR\"]\n",
    "\n",
    "\n",
    "print(stats_columns)\n",
    "\n",
    "# Seasons to look at\n",
    "seasons = [2011, 2012, 2013, 2014, 2015, 2016, 2017]\n",
    "seasons_test = [2017]\n",
    "seasons_train = [season for season in seasons if season not in seasons_test]\n",
    "\n",
    "# # Specify what to use as the training data\n",
    "# train_data = reg_ratios_comp\n",
    "\n",
    "# # Get all of the training data for the given years\n",
    "# train_x = train_data.loc[train_data[\"Season\"].isin(seasons)].drop(labels=cols_to_drop, axis=1).as_matrix()\n",
    "# train_y = train_data.loc[train_data[\"Season\"].isin(seasons)][\"NumTeamWon\"].as_matrix()"
   ]
  },
  {
   "cell_type": "code",
   "execution_count": 49,
   "metadata": {},
   "outputs": [],
   "source": [
    "tourney_games = tour_ratios.loc[tour_ratios[\"Season\"].isin(seasons)]\n",
    "tourney_games = tourney_games.reset_index(drop=True)\n",
    "\n",
    "all_data = pd.DataFrame(index=range(tourney_games.shape[0]), columns= [\"Season\"] + stats_columns + [\"NumTeamWon\"])\n",
    "all_data.loc[:,\"NumTeamWon\"] = np.ones(tourney_games.shape[0])\n",
    "index = 0\n",
    "for i in range(len(seasons)):\n",
    "    season = seasons[i]\n",
    "    tourney_games_for_season = tourney_games.loc[tourney_games[\"Season\"] == season].reset_index()\n",
    "    for j, row in tourney_games_for_season.iterrows():\n",
    "        all_data.loc[index, \"Season\"] = season\n",
    "        teamA_id = tourney_games_for_season.at[j, \"WTeamID\"]\n",
    "        teamB_id = tourney_games_for_season.at[j, \"LTeamID\"]\n",
    "        teamA_stats = reg_ratios_comp.loc[(reg_ratios_comp[\"TeamID\"] == teamA_id) & (reg_ratios_comp[\"Season\"] == season), stats_columns].as_matrix()\n",
    "        teamB_stats = reg_ratios_comp.loc[(reg_ratios_comp[\"TeamID\"] == teamB_id) & (reg_ratios_comp[\"Season\"] == season), stats_columns].as_matrix()\n",
    "        r = random.random()\n",
    "        if r > 0.5:\n",
    "            all_data.loc[index, stats_columns] = (teamA_stats / teamB_stats).ravel()\n",
    "        else:\n",
    "            all_data.loc[index, stats_columns] = (teamB_stats / teamA_stats).ravel()\n",
    "            all_data.loc[index, \"NumTeamWon\"] = 0\n",
    "            \n",
    "#         if index == 0:\n",
    "#             print(all_data.loc[index, stats_columns])\n",
    "#             print(teamA_stats / teamB_stats)\n",
    "#             print(teamA_stats)\n",
    "#             print(teamB_stats)\n",
    "        \n",
    "        index += 1"
   ]
  },
  {
   "cell_type": "code",
   "execution_count": 50,
   "metadata": {},
   "outputs": [
    {
     "name": "stdout",
     "output_type": "stream",
     "text": [
      "Train X:  (402, 11)\n",
      "Train Y:  (402,)\n",
      "Test X:   (67, 11)\n",
      "Test Y:   (67,)\n"
     ]
    }
   ],
   "source": [
    "train_x = all_data.loc[all_data[\"Season\"].isin(seasons_train)][stats_columns].as_matrix()\n",
    "train_y = all_data.loc[all_data[\"Season\"].isin(seasons_train)][\"NumTeamWon\"].as_matrix()\n",
    "test_x = all_data.loc[all_data[\"Season\"].isin(seasons_test)][stats_columns].as_matrix()\n",
    "test_y = all_data.loc[all_data[\"Season\"].isin(seasons_test)][\"NumTeamWon\"].as_matrix()\n",
    "\n",
    "print(\"Train X: \", train_x.shape)\n",
    "print(\"Train Y: \", train_y.shape)\n",
    "print(\"Test X:  \", test_x.shape)\n",
    "print(\"Test Y:  \", test_y.shape)"
   ]
  },
  {
   "cell_type": "code",
   "execution_count": 59,
   "metadata": {},
   "outputs": [
    {
     "data": {
      "text/plain": [
       "RandomForestRegressor(bootstrap=True, criterion='mse', max_depth=None,\n",
       "           max_features=1, max_leaf_nodes=None, min_impurity_decrease=0.0,\n",
       "           min_impurity_split=None, min_samples_leaf=1,\n",
       "           min_samples_split=2, min_weight_fraction_leaf=0.0,\n",
       "           n_estimators=5000, n_jobs=-1, oob_score=False,\n",
       "           random_state=None, verbose=0, warm_start=False)"
      ]
     },
     "execution_count": 59,
     "metadata": {},
     "output_type": "execute_result"
    }
   ],
   "source": [
    "clf = RandomForestRegressor(n_estimators=5000, oob_score=False, max_features=1, min_samples_leaf=1, n_jobs=-1)\n",
    "clf.fit(train_x, train_y.ravel())"
   ]
  },
  {
   "cell_type": "code",
   "execution_count": 60,
   "metadata": {},
   "outputs": [
    {
     "name": "stdout",
     "output_type": "stream",
     "text": [
      "Accuracy, Train:  1.0\n",
      "Log Loss, Train:  0.17665896758155253\n",
      "\n",
      "Accuracy, Test:   0.6417910447761194\n",
      "Log Loss, Test:   0.6068496847627293\n"
     ]
    }
   ],
   "source": [
    "preds_train = clf.predict(train_x)\n",
    "preds_test = clf.predict(test_x)\n",
    "\n",
    "print(\"Accuracy, Train: \", accuracy_score(train_y, preds_train > 0.5))\n",
    "print(\"Log Loss, Train: \", log_loss(train_y, preds_train))\n",
    "print(\"\")\n",
    "print(\"Accuracy, Test:  \", accuracy_score(test_y, preds_test > 0.5))\n",
    "print(\"Log Loss, Test:  \", log_loss(test_y, preds_test))"
   ]
  },
  {
   "cell_type": "code",
   "execution_count": 61,
   "metadata": {},
   "outputs": [
    {
     "name": "stdout",
     "output_type": "stream",
     "text": [
      "TOR : 0.08539325306976453\n",
      "StlR : 0.08670190081258734\n",
      "OFF_REB_PCT : 0.0881299616729374\n",
      "FT_RATE : 0.08887598417463675\n",
      "WINPCT : 0.09073579933777068\n",
      "BlkR : 0.09100954057615845\n",
      "OFF_EFF : 0.09238602302107347\n",
      "TURNOVER_RATE : 0.09245394566305176\n",
      "FGMR : 0.09291952047889912\n",
      "FTMR : 0.0949083202541041\n",
      "PIE : 0.09648575093901735\n"
     ]
    }
   ],
   "source": [
    "variables = stats_columns\n",
    "feature_importance = clf.feature_importances_\n",
    "\n",
    "feature_importance, variables = (list(t) for t in zip(*sorted(zip(feature_importance, variables))))\n",
    "\n",
    "for i in range(len(feature_importance)):\n",
    "    print(variables[i], \":\", feature_importance[i])"
   ]
  },
  {
   "cell_type": "code",
   "execution_count": null,
   "metadata": {},
   "outputs": [],
   "source": []
  },
  {
   "cell_type": "code",
   "execution_count": null,
   "metadata": {},
   "outputs": [],
   "source": []
  }
 ],
 "metadata": {
  "kernelspec": {
   "display_name": "Python 3",
   "language": "python",
   "name": "python3"
  },
  "language_info": {
   "codemirror_mode": {
    "name": "ipython",
    "version": 3
   },
   "file_extension": ".py",
   "mimetype": "text/x-python",
   "name": "python",
   "nbconvert_exporter": "python",
   "pygments_lexer": "ipython3",
   "version": "3.5.2"
  }
 },
 "nbformat": 4,
 "nbformat_minor": 2
}
