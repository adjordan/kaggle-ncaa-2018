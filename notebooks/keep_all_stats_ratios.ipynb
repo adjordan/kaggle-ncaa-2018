{
 "cells": [
  {
   "cell_type": "code",
   "execution_count": 48,
   "metadata": {},
   "outputs": [],
   "source": [
    "import pandas as pd\n",
    "import numpy as np\n",
    "import random"
   ]
  },
  {
   "cell_type": "code",
   "execution_count": 51,
   "metadata": {},
   "outputs": [
    {
     "name": "stdout",
     "output_type": "stream",
     "text": [
      "(981, 34)\n"
     ]
    }
   ],
   "source": [
    "frac_cols_stats = [\"FGMR\", \"FGAR\", \"FGMR3\", \"FGAR3\", \"FTMR\", \"FTAR\", \"ORR\", \"DRR\",\n",
    "                   \"AstR\", \"TOR\", \"StlR\", \"BlkR\", \"PFR\"]\n",
    "frac_cols_all = [\"Season\", \"DayNum\", \"WTeamID\", \"WScore\", \"LTeamID\", \"LScore\", \"NumTeamWon\", \"Loc\",\n",
    "                 \"FGMR\", \"FGAR\", \"FGMR3\", \"FGAR3\", \"FTMR\", \"FTAR\", \"ORR\", \"DRR\", \"AstR\",\n",
    "                 \"TOR\", \"StlR\", \"BlkR\", \"PFR\"]\n",
    "\n",
    "results = pd.read_csv(\"NCAATourneyDetailedResults.csv\")\n",
    "print(results.shape)\n",
    "\n",
    "def convert_location_to_int(loc, isNum):\n",
    "    if loc == \"H\":\n",
    "        loc_int = isNum\n",
    "    elif loc == \"A\":\n",
    "        loc_int = -isNum\n",
    "    elif loc == \"N\":\n",
    "        loc_int = 0\n",
    "        \n",
    "    return loc_int"
   ]
  },
  {
   "cell_type": "code",
   "execution_count": 50,
   "metadata": {},
   "outputs": [
    {
     "name": "stdout",
     "output_type": "stream",
     "text": [
      "Finished game 0\n"
     ]
    }
   ],
   "source": [
    "ratios = pd.DataFrame(index=range(results.shape[0]), columns=frac_cols_all)\n",
    "ratios[[\"Season\", \"WTeamID\", \"WScore\", \"LTeamID\", \"LScore\"]] = results[[\"Season\", \"WTeamID\", \"WScore\", \"LTeamID\", \"LScore\"]]\n",
    "\n",
    "w_cols = [\"WFGM\", \"WFGA\", \"WFGM3\", \"WFGA3\", \"WFTM\", \"WFTA\", \"WOR\", \"WDR\", \"WAst\", \"WTO\", \"WStl\", \"WBlk\", \"WPF\"]\n",
    "l_cols = [\"LFGM\", \"LFGA\", \"LFGM3\", \"LFGA3\", \"LFTM\", \"LFTA\", \"LOR\", \"LDR\", \"LAst\", \"LTO\", \"LStl\", \"LBlk\", \"LPF\"]\n",
    "\n",
    "for i in range(results.shape[0]):\n",
    "    if (i % 5000 == 0):\n",
    "        print(\"Finished game {}\".format(i))\n",
    "    game = results.iloc[i]\n",
    "    w_team_stats = game[w_cols].as_matrix()\n",
    "    w_team_stats[w_team_stats == 0] = 1\n",
    "    l_team_stats = game[l_cols].as_matrix()\n",
    "    l_team_stats[l_team_stats == 0] = 1\n",
    "    r = random.random()\n",
    "    if r > 0.5:\n",
    "        ratios.loc[i, frac_cols_stats] = w_team_stats / l_team_stats\n",
    "        ratios.loc[i, \"Loc\"] = convert_location_to_int(results.loc[i, \"WLoc\"], 1)\n",
    "        ratios.loc[i, \"NumTeamWon\"] = 1\n",
    "    else:\n",
    "        ratios.loc[i, frac_cols_stats] = l_team_stats / w_team_stats\n",
    "        ratios.loc[i, \"Loc\"] = convert_location_to_int(results.loc[i, \"WLoc\"], -1)\n",
    "        ratios.loc[i, \"NumTeamWon\"] = 0\n",
    "        \n",
    "ratios = ratios.astype(float).round(3)\n",
    "ratios.to_csv(\"NCAATourneyDetailedResultsRatios.csv\")"
   ]
  }
 ],
 "metadata": {
  "kernelspec": {
   "display_name": "Python 3",
   "language": "python",
   "name": "python3"
  },
  "language_info": {
   "codemirror_mode": {
    "name": "ipython",
    "version": 3
   },
   "file_extension": ".py",
   "mimetype": "text/x-python",
   "name": "python",
   "nbconvert_exporter": "python",
   "pygments_lexer": "ipython3",
   "version": "3.5.2"
  }
 },
 "nbformat": 4,
 "nbformat_minor": 2
}
