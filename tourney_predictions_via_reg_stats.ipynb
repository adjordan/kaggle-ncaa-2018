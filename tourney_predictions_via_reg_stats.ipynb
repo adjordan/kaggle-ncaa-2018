{
 "cells": [
  {
   "cell_type": "code",
   "execution_count": null,
   "metadata": {},
   "outputs": [],
   "source": [
    "# Imports\n",
    "import numpy as np\n",
    "import pandas as pd\n",
    "import random\n",
    "from sklearn.ensemble import RandomForestRegressor\n",
    "# # Import PCA\n",
    "# from sklearn.decomposition import PCA\n",
    "\n",
    "# # Perform PCA\n",
    "# pca = PCA(n_components=3)\n",
    "# pca.fit(train_x)\n",
    "# print(pca.explained_variance_ratio_)"
   ]
  },
  {
   "cell_type": "code",
   "execution_count": null,
   "metadata": {},
   "outputs": [],
   "source": [
    "# Get all rows for 2017 season and drop irrelevant variables\n",
    "test_x = df.loc[df['Season'] == 2017]\n",
    "test_x = df.drop(columns=cols_to_drop, axis=1).as_matrix()\n",
    "\n",
    "# Get rows for all other seasons, drop irrelevant variables\n",
    "train_x = df[df.Season != 2017]\n",
    "train_x = df.drop(labels=cols_to_drop, axis=1).as_matrix()\n",
    "\n",
    "# Y vectors\n",
    "test_y = np.ones((test_x.shape[0], 1))\n",
    "train_y = np.ones((train_x.shape[0], 1))\n",
    "\n",
    "# Rearrange training data so winning team doesn't always come first\n",
    "num_to_switch = int(test_x.shape[0]/2)\n",
    "num_features = test_x.shape[1]\n",
    "for i in range(num_to_switch):\n",
    "    half1 = train_x[i, 0:int(num_features/2)]\n",
    "    half2 = train_x[i, int(num_features/2):(num_features)]\n",
    "    new_data = np.concatenate((half1, half2))\n",
    "    train_x[i] = new_data\n",
    "    train_y[i] = 0\n",
    "\n",
    "# Concatenate to shuffle the same way\n",
    "train_concat = np.concatenate((train_x, train_y), axis=1)\n",
    "np.random.shuffle(train_concat)\n",
    "train_x = train_concat[:,0:26]\n",
    "train_y = train_concat[:,26]\n",
    "\n",
    "test_concat = np.concatenate((test_x, test_y), axis=1)\n",
    "np.random.shuffle(test_concat)\n",
    "test_x = test_concat[:,0:26]\n",
    "test_y = test_concat[:,26]"
   ]
  },
  {
   "cell_type": "code",
   "execution_count": null,
   "metadata": {},
   "outputs": [],
   "source": [
    "# Random forest\n",
    "clf = RandomForestRegressor(n_estimators=300, oob_score=True)\n",
    "# clf.fit(train_x, train_y.ravel())\n",
    "# print(\"Out-of-bag score: {}\".format(clf.oob_score_))\n",
    "# acc = clf.score(test_x, test_y.ravel())\n",
    "# print(\"Test accuracy: {}\".format(acc))"
   ]
  },
  {
   "cell_type": "code",
   "execution_count": null,
   "metadata": {},
   "outputs": [],
   "source": []
  }
 ],
 "metadata": {
  "kernelspec": {
   "display_name": "Python 3",
   "language": "python",
   "name": "python3"
  },
  "language_info": {
   "codemirror_mode": {
    "name": "ipython",
    "version": 3
   },
   "file_extension": ".py",
   "mimetype": "text/x-python",
   "name": "python",
   "nbconvert_exporter": "python",
   "pygments_lexer": "ipython3",
   "version": "3.5.2"
  }
 },
 "nbformat": 4,
 "nbformat_minor": 2
}
