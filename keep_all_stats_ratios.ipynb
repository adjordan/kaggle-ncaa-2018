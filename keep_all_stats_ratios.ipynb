{
 "cells": [
  {
   "cell_type": "code",
   "execution_count": 41,
   "metadata": {},
   "outputs": [],
   "source": [
    "import pandas as pd\n",
    "import numpy as np\n",
    "import random"
   ]
  },
  {
   "cell_type": "code",
   "execution_count": 26,
   "metadata": {},
   "outputs": [
    {
     "name": "stdout",
     "output_type": "stream",
     "text": [
      "(76636, 34)\n"
     ]
    }
   ],
   "source": [
    "frac_cols_stats = [\"FGMR\", \"FGAR\", \"FGMR3\", \"FGAR3\", \"FTMR\", \"FTAR\", \"ORR\", \"DRR\",\n",
    "                   \"AstR\", \"TOR\", \"StlR\", \"BlkR\", \"PFR\"]\n",
    "frac_cols_all = [\"Season\", \"WTeamID\", \"WScore\", \"LTeamID\", \"LScore\", \"NumTeamWon\", \"Loc\",\n",
    "                 \"FGMR\", \"FGAR\", \"FGMR3\", \"FGAR3\", \"FTMR\", \"FTAR\", \"ORR\", \"DRR\", \"AstR\",\n",
    "                 \"TOR\", \"StlR\", \"BlkR\", \"PFR\"]\n",
    "\n",
    "results = pd.read_csv(\"RegularSeasonDetailedResults.csv\")\n",
    "print(results.shape)\n",
    "\n",
    "def convert_location_to_int(loc, isNum):\n",
    "    if loc == \"H\":\n",
    "        loc_int = isNum\n",
    "    elif loc == \"A\":\n",
    "        loc_int = -isNum\n",
    "    elif loc == \"N\":\n",
    "        loc_int = 0\n",
    "        \n",
    "    return loc_int"
   ]
  },
  {
   "cell_type": "code",
   "execution_count": 31,
   "metadata": {},
   "outputs": [
    {
     "name": "stdout",
     "output_type": "stream",
     "text": [
      "Finished game 0\n",
      "Finished game 5000\n",
      "Finished game 10000\n",
      "Finished game 15000\n",
      "Finished game 20000\n",
      "Finished game 25000\n",
      "Finished game 30000\n",
      "Finished game 35000\n",
      "Finished game 40000\n",
      "Finished game 45000\n",
      "Finished game 50000\n",
      "Finished game 55000\n",
      "Finished game 60000\n",
      "Finished game 65000\n",
      "Finished game 70000\n",
      "Finished game 75000\n"
     ]
    }
   ],
   "source": [
    "ratios = pd.DataFrame(index=range(results.shape[0]), columns=frac_cols_all)\n",
    "ratios[[\"Season\", \"WTeamID\", \"WScore\", \"LTeamID\", \"LScore\"]] = results[[\"Season\", \"WTeamID\", \"WScore\", \"LTeamID\", \"LScore\"]]\n",
    "\n",
    "w_cols = [\"WFGM\", \"WFGA\", \"WFGM3\", \"WFGA3\", \"WFTM\", \"WFTA\", \"WOR\", \"WDR\", \"WAst\", \"WTO\", \"WStl\", \"WBlk\", \"WPF\"]\n",
    "l_cols = [\"LFGM\", \"LFGA\", \"LFGM3\", \"LFGA3\", \"LFTM\", \"LFTA\", \"LOR\", \"LDR\", \"LAst\", \"LTO\", \"LStl\", \"LBlk\", \"LPF\"]\n",
    "\n",
    "for i in range(results.shape[0]):\n",
    "    if (i % 5000 == 0):\n",
    "        print(\"Finished game {}\".format(i))\n",
    "    game = results.iloc[i]\n",
    "    w_team_stats = game[w_cols].as_matrix()\n",
    "    w_team_stats[w_team_stats == 0] = 1\n",
    "    l_team_stats = game[l_cols].as_matrix()\n",
    "    l_team_stats[l_team_stats == 0] = 1\n",
    "    r = random.random()\n",
    "    if r > 0.5:\n",
    "        ratios.loc[i, frac_cols_stats] = w_team_stats / l_team_stats\n",
    "        ratios.loc[i, \"Loc\"] = convert_location_to_int(results.loc[i, \"WLoc\"], 1)\n",
    "        ratios.loc[i, \"NumTeamWon\"] = 1\n",
    "    else:\n",
    "        ratios.loc[i, frac_cols_stats] = l_team_stats / w_team_stats\n",
    "        ratios.loc[i, \"Loc\"] = convert_location_to_int(results.loc[i, \"WLoc\"], -1)\n",
    "        ratios.loc[i, \"NumTeamWon\"] = 0\n",
    "        \n",
    "ratios = ratios.round(3)\n",
    "ratios.to_csv(\"RegularSeasonDetailedResultsRatios.csv\")"
   ]
  },
  {
   "cell_type": "code",
   "execution_count": 32,
   "metadata": {},
   "outputs": [],
   "source": [
    "ratios2 = ratios\n",
    "ratios2.rename(index=str, columns={\"LScoreNumTeamWin\": \"LScore\"})\n",
    "ratios2[\"LScore\"] = results[\"LScore\"]"
   ]
  },
  {
   "cell_type": "code",
   "execution_count": 33,
   "metadata": {},
   "outputs": [],
   "source": [
    "ratios2 = ratios2.round(3)"
   ]
  },
  {
   "cell_type": "code",
   "execution_count": 37,
   "metadata": {},
   "outputs": [
    {
     "name": "stdout",
     "output_type": "stream",
     "text": [
      "Season                  2003\n",
      "WTeamID                 1296\n",
      "WScore                    56\n",
      "LTeamID                 1457\n",
      "LScoreNumTeamWon         NaN\n",
      "Loc                        0\n",
      "FGMR                       1\n",
      "FGAR                 1.28947\n",
      "FGMR3                      2\n",
      "FGAR3                2.44444\n",
      "FTMR                0.470588\n",
      "FTAR                0.483871\n",
      "ORR                  2.83333\n",
      "DRR                  1.05263\n",
      "AstR                0.818182\n",
      "TOR                  1.58333\n",
      "StlR                0.285714\n",
      "BlkR                     1.5\n",
      "PFR                  1.27778\n",
      "LScore                    50\n",
      "NumTeamWon                 0\n",
      "Name: 3, dtype: object\n"
     ]
    }
   ],
   "source": [
    "print(ratios2.loc[3,:])"
   ]
  },
  {
   "cell_type": "code",
   "execution_count": 39,
   "metadata": {},
   "outputs": [],
   "source": [
    "ratios2 = ratios2.drop([\"LScoreNumTeamWon\"], axis=1)"
   ]
  },
  {
   "cell_type": "code",
   "execution_count": 44,
   "metadata": {},
   "outputs": [],
   "source": [
    "ratios2 = ratios2.astype(float).round(3)"
   ]
  },
  {
   "cell_type": "code",
   "execution_count": 45,
   "metadata": {},
   "outputs": [],
   "source": [
    "ratios3 = ratios2[[\"Season\", \"WTeamID\", \"WScore\", \"LTeamID\", \"LScore\", \"NumTeamWon\", \"Loc\",\n",
    "                 \"FGMR\", \"FGAR\", \"FGMR3\", \"FGAR3\", \"FTMR\", \"FTAR\", \"ORR\", \"DRR\", \"AstR\",\n",
    "                 \"TOR\", \"StlR\", \"BlkR\", \"PFR\"]]"
   ]
  },
  {
   "cell_type": "code",
   "execution_count": 47,
   "metadata": {},
   "outputs": [],
   "source": [
    "ratios3.to_csv(\"RegularSeasonDetailedResultsRatios.csv\")"
   ]
  },
  {
   "cell_type": "code",
   "execution_count": null,
   "metadata": {},
   "outputs": [],
   "source": []
  }
 ],
 "metadata": {
  "kernelspec": {
   "display_name": "Python 3",
   "language": "python",
   "name": "python3"
  },
  "language_info": {
   "codemirror_mode": {
    "name": "ipython",
    "version": 3
   },
   "file_extension": ".py",
   "mimetype": "text/x-python",
   "name": "python",
   "nbconvert_exporter": "python",
   "pygments_lexer": "ipython3",
   "version": "3.5.2"
  }
 },
 "nbformat": 4,
 "nbformat_minor": 2
}
