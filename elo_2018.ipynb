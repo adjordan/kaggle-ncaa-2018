{
 "cells": [
  {
   "cell_type": "code",
   "execution_count": 1,
   "metadata": {},
   "outputs": [],
   "source": [
    "import numpy as np\n",
    "import pandas as pd\n",
    "from sklearn.metrics import log_loss"
   ]
  },
  {
   "cell_type": "code",
   "execution_count": 2,
   "metadata": {},
   "outputs": [],
   "source": [
    "K = 20.\n",
    "HOME_ADVANTAGE = 100."
   ]
  },
  {
   "cell_type": "code",
   "execution_count": 3,
   "metadata": {},
   "outputs": [
    {
     "data": {
      "text/html": [
       "<div>\n",
       "<style scoped>\n",
       "    .dataframe tbody tr th:only-of-type {\n",
       "        vertical-align: middle;\n",
       "    }\n",
       "\n",
       "    .dataframe tbody tr th {\n",
       "        vertical-align: top;\n",
       "    }\n",
       "\n",
       "    .dataframe thead th {\n",
       "        text-align: right;\n",
       "    }\n",
       "</style>\n",
       "<table border=\"1\" class=\"dataframe\">\n",
       "  <thead>\n",
       "    <tr style=\"text-align: right;\">\n",
       "      <th></th>\n",
       "      <th>Season</th>\n",
       "      <th>DayNum</th>\n",
       "      <th>WTeamID</th>\n",
       "      <th>WScore</th>\n",
       "      <th>LTeamID</th>\n",
       "      <th>LScore</th>\n",
       "      <th>WLoc</th>\n",
       "      <th>NumOT</th>\n",
       "    </tr>\n",
       "  </thead>\n",
       "  <tbody>\n",
       "    <tr>\n",
       "      <th>0</th>\n",
       "      <td>1985</td>\n",
       "      <td>20</td>\n",
       "      <td>1228</td>\n",
       "      <td>81</td>\n",
       "      <td>1328</td>\n",
       "      <td>64</td>\n",
       "      <td>N</td>\n",
       "      <td>0</td>\n",
       "    </tr>\n",
       "    <tr>\n",
       "      <th>1</th>\n",
       "      <td>1985</td>\n",
       "      <td>25</td>\n",
       "      <td>1106</td>\n",
       "      <td>77</td>\n",
       "      <td>1354</td>\n",
       "      <td>70</td>\n",
       "      <td>H</td>\n",
       "      <td>0</td>\n",
       "    </tr>\n",
       "    <tr>\n",
       "      <th>2</th>\n",
       "      <td>1985</td>\n",
       "      <td>25</td>\n",
       "      <td>1112</td>\n",
       "      <td>63</td>\n",
       "      <td>1223</td>\n",
       "      <td>56</td>\n",
       "      <td>H</td>\n",
       "      <td>0</td>\n",
       "    </tr>\n",
       "  </tbody>\n",
       "</table>\n",
       "</div>"
      ],
      "text/plain": [
       "   Season  DayNum  WTeamID  WScore  LTeamID  LScore WLoc  NumOT\n",
       "0    1985      20     1228      81     1328      64    N      0\n",
       "1    1985      25     1106      77     1354      70    H      0\n",
       "2    1985      25     1112      63     1223      56    H      0"
      ]
     },
     "execution_count": 3,
     "metadata": {},
     "output_type": "execute_result"
    }
   ],
   "source": [
    "rs = pd.read_csv(\"/home/austin/Github/kaggle-ncaa-2018/RegularSeasonCompactResults.csv\")\n",
    "rs.head(3)"
   ]
  },
  {
   "cell_type": "code",
   "execution_count": 4,
   "metadata": {},
   "outputs": [
    {
     "data": {
      "text/plain": [
       "364"
      ]
     },
     "execution_count": 4,
     "metadata": {},
     "output_type": "execute_result"
    }
   ],
   "source": [
    "team_ids = set(rs.WTeamID).union(set(rs.LTeamID))\n",
    "len(team_ids)"
   ]
  },
  {
   "cell_type": "code",
   "execution_count": 5,
   "metadata": {},
   "outputs": [],
   "source": [
    "# This dictionary will be used as a lookup for current\n",
    "# scores while the algorithm is iterating through each game\n",
    "elo_dict = dict(zip(list(team_ids), [1500] * len(team_ids)))"
   ]
  },
  {
   "cell_type": "code",
   "execution_count": 6,
   "metadata": {},
   "outputs": [],
   "source": [
    "# Elo updates will be scaled based on the margin of victory\n",
    "rs['margin'] = rs.WScore - rs.LScore"
   ]
  },
  {
   "cell_type": "code",
   "execution_count": 7,
   "metadata": {},
   "outputs": [],
   "source": [
    "def elo_pred(elo1, elo2):\n",
    "    return(1. / (10. ** (-(elo1 - elo2) / 400.) + 1.))\n",
    "\n",
    "def expected_margin(elo_diff):\n",
    "    return((7.5 + 0.006 * elo_diff))\n",
    "\n",
    "def elo_update(w_elo, l_elo, margin):\n",
    "    elo_diff = w_elo - l_elo\n",
    "    pred = elo_pred(w_elo, l_elo)\n",
    "    mult = ((margin + 3.) ** 0.8) / expected_margin(elo_diff)\n",
    "    update = K * mult * (1 - pred)\n",
    "    return(pred, update)"
   ]
  },
  {
   "cell_type": "code",
   "execution_count": 8,
   "metadata": {},
   "outputs": [],
   "source": [
    "# I'm going to iterate over the games dataframe using \n",
    "# index numbers, so want to check that nothing is out\n",
    "# of order before I do that.\n",
    "assert np.all(rs.index.values == np.array(range(rs.shape[0]))), \"Index is out of order.\""
   ]
  },
  {
   "cell_type": "code",
   "execution_count": 10,
   "metadata": {},
   "outputs": [],
   "source": [
    "preds = []\n",
    "w_elo = []\n",
    "l_elo = []\n",
    "\n",
    "# Loop over all rows of the games dataframe\n",
    "for row in rs.itertuples():\n",
    "    \n",
    "    # Get key data from current row\n",
    "    w = row.WTeamID\n",
    "    l = row.LTeamID\n",
    "    margin = row.margin\n",
    "    wloc = row.WLoc\n",
    "    \n",
    "    # Does either team get a home-court advantage?\n",
    "    w_ad, l_ad, = 0., 0.\n",
    "    if wloc == \"H\":\n",
    "        w_ad += HOME_ADVANTAGE\n",
    "    elif wloc == \"A\":\n",
    "        l_ad += HOME_ADVANTAGE\n",
    "    \n",
    "    # Get elo updates as a result of the game\n",
    "    pred, update = elo_update(elo_dict[w] + w_ad,\n",
    "                              elo_dict[l] + l_ad, \n",
    "                              margin)\n",
    "    elo_dict[w] += update\n",
    "    elo_dict[l] -= update\n",
    "    \n",
    "    # Save prediction and new Elos for each round\n",
    "    preds.append(pred)\n",
    "    w_elo.append(elo_dict[w])\n",
    "    l_elo.append(elo_dict[l])"
   ]
  },
  {
   "cell_type": "code",
   "execution_count": 11,
   "metadata": {},
   "outputs": [],
   "source": [
    "rs['w_elo'] = w_elo\n",
    "rs['l_elo'] = l_elo"
   ]
  },
  {
   "cell_type": "code",
   "execution_count": 12,
   "metadata": {},
   "outputs": [
    {
     "data": {
      "text/plain": [
       "0.5325223923062105"
      ]
     },
     "execution_count": 12,
     "metadata": {},
     "output_type": "execute_result"
    }
   ],
   "source": [
    "np.mean(-np.log(preds))"
   ]
  },
  {
   "cell_type": "code",
   "execution_count": 13,
   "metadata": {},
   "outputs": [],
   "source": [
    "def final_elo_per_season(df, team_id):\n",
    "    d = df.copy()\n",
    "    d = d.loc[(d.WTeamID == team_id) | (d.LTeamID == team_id), :]\n",
    "    d.sort_values(['Season', 'DayNum'], inplace=True)\n",
    "    d.drop_duplicates(['Season'], keep='last', inplace=True)\n",
    "    w_mask = d.WTeamID == team_id\n",
    "    l_mask = d.LTeamID == team_id\n",
    "    d['season_elo'] = None\n",
    "    d.loc[w_mask, 'season_elo'] = d.loc[w_mask, 'w_elo']\n",
    "    d.loc[l_mask, 'season_elo'] = d.loc[l_mask, 'l_elo']\n",
    "    out = pd.DataFrame({\n",
    "        'team_id': team_id,\n",
    "        'season': d.Season,\n",
    "        'season_elo': d.season_elo\n",
    "    })\n",
    "    return(out)"
   ]
  },
  {
   "cell_type": "code",
   "execution_count": 14,
   "metadata": {},
   "outputs": [],
   "source": [
    "df_list = [final_elo_per_season(rs, id) for id in team_ids]\n",
    "season_elos = pd.concat(df_list)"
   ]
  },
  {
   "cell_type": "code",
   "execution_count": 15,
   "metadata": {},
   "outputs": [],
   "source": [
    "season_elos.to_csv(\"season_elos_2018.csv\", index=None)"
   ]
  },
  {
   "cell_type": "code",
   "execution_count": null,
   "metadata": {},
   "outputs": [],
   "source": []
  }
 ],
 "metadata": {
  "kernelspec": {
   "display_name": "Python 3",
   "language": "python",
   "name": "python3"
  },
  "language_info": {
   "codemirror_mode": {
    "name": "ipython",
    "version": 3
   },
   "file_extension": ".py",
   "mimetype": "text/x-python",
   "name": "python",
   "nbconvert_exporter": "python",
   "pygments_lexer": "ipython3",
   "version": "3.5.2"
  }
 },
 "nbformat": 4,
 "nbformat_minor": 2
}
